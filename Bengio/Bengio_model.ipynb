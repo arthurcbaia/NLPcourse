{
  "cells": [
    {
      "cell_type": "code",
      "execution_count": null,
      "metadata": {
        "colab": {
          "base_uri": "https://localhost:8080/"
        },
        "id": "jOdQB41_4ZxG",
        "outputId": "5d0aee3d-3ff8-4aea-c56e-f53f43012e7c"
      },
      "outputs": [],
      "source": [
        "nome = 'Arthur Baia'\n",
        "print(f'Meu nome é {nome}')"
      ]
    },
    {
      "cell_type": "markdown",
      "metadata": {
        "id": "2IbuChoAPMEn"
      },
      "source": [
        "#  Exercício: Modelo de Linguagem (Bengio 2003) - MLP + Embeddings"
      ]
    },
    {
      "cell_type": "markdown",
      "metadata": {
        "id": "p_DBb0-Klwf2"
      },
      "source": [
        "Neste exercício iremos treinar uma rede neural similar a do Bengio 2003 para prever a próxima palavra de um texto, data as palavras anteriores como entrada. Esta tarefa é chamada de \"Modelagem da Linguagem\".\n",
        "\n",
        "Algumas dicas:\n",
        "- Inclua caracteres de pontuação (ex: `.` e `,`) no vocabulário.\n",
        "- Deixe tudo como caixa baixa (lower-case).\n",
        "- A escolha do tamanho do vocabulario é importante: ser for muito grande, fica difícil para o modelo aprender boas representações. Se for muito pequeno, o modelo apenas conseguirá gerar textos simples.\n",
        "- Remova qualquer exemplo de treino/validação/teste que tenha pelo menos um token desconhecido (ou na entrada ou na saída). \n",
        "- Este dataset já possui um tamanho razoável e é bem provável que você vai precisar rodar seus experimentos com GPU.\n",
        "- Durante a depuração, faça seu dataset ficar bem pequeno, para que a depuração seja mais rápida e não precise de GPU. Somente ligue a GPU quando o seu laço de treinamento já está funcionando\n",
        "- Não deixe para fazer esse exercício na véspera. Ele é trabalhoso."
      ]
    },
    {
      "cell_type": "markdown",
      "metadata": {
        "id": "YnyhJZtTRNMx"
      },
      "source": [
        "## Importação dos pacotes"
      ]
    },
    {
      "cell_type": "code",
      "execution_count": null,
      "metadata": {
        "id": "qlIOVCajPWcU"
      },
      "outputs": [],
      "source": [
        "import collections\n",
        "import itertools\n",
        "import functools\n",
        "import math\n",
        "import os\n",
        "import random\n",
        "import re\n",
        "\n",
        "import torch\n",
        "import torch.nn as nn\n",
        "import numpy as np\n",
        "from torch.utils.data import DataLoader\n",
        "from tqdm import tqdm_notebook\n",
        "from typing import List"
      ]
    },
    {
      "cell_type": "code",
      "execution_count": null,
      "metadata": {
        "colab": {
          "base_uri": "https://localhost:8080/"
        },
        "id": "w9f3PfifAwpU",
        "outputId": "68666324-fd4b-436e-dc58-68b3e6ec3716"
      },
      "outputs": [],
      "source": [
        "# Check which GPU we are using\n",
        "!nvidia-smi"
      ]
    },
    {
      "cell_type": "code",
      "execution_count": null,
      "metadata": {
        "colab": {
          "base_uri": "https://localhost:8080/"
        },
        "id": "whTCe2i7AtoV",
        "outputId": "525d209e-e4d7-4d5b-cadb-262f8280c42e"
      },
      "outputs": [],
      "source": [
        "if torch.cuda.is_available(): \n",
        "   dev = \"cuda:0\"\n",
        "else: \n",
        "   dev = \"cpu\"\n",
        "device = torch.device(dev)\n",
        "print('Using {}'.format(device))"
      ]
    },
    {
      "cell_type": "markdown",
      "metadata": {
        "id": "4LfrHHouleJ0"
      },
      "source": [
        "# Carregamento do dataset \n",
        "\n",
        "Primeiro, fazemos download do dataset:"
      ]
    },
    {
      "cell_type": "code",
      "execution_count": null,
      "metadata": {
        "colab": {
          "base_uri": "https://localhost:8080/"
        },
        "id": "2wbnfzst5O3k",
        "outputId": "c1afe504-87cd-45e6-cda4-dac9ee98dca3"
      },
      "outputs": [],
      "source": [
        "!wget -nc http://files.fast.ai/data/aclImdb.tgz \n",
        "!tar -xzf aclImdb.tgz"
      ]
    },
    {
      "cell_type": "markdown",
      "metadata": {
        "id": "0Giyi5Rv_NIm"
      },
      "source": [
        "## Carregando o dataset\n",
        "\n",
        "Criaremos uma divisão de treino (80%) e validação (20%) artificialmente.\n",
        "\n",
        "Nota: Evitar de olhar ao máximo o dataset de teste para não ficar enviseado no que será testado. Em aplicações reais, o dataset de teste só estará disponível no futuro, ou seja, é quando o usuário começa a testar o seu produto."
      ]
    },
    {
      "cell_type": "code",
      "execution_count": null,
      "metadata": {
        "colab": {
          "base_uri": "https://localhost:8080/"
        },
        "id": "0HIN_xLI_TuT",
        "outputId": "2c5000a8-5812-4cb1-a8ea-24ecf3543786"
      },
      "outputs": [],
      "source": [
        "def load_texts(folder):\n",
        "    texts = []\n",
        "    for path in os.listdir(folder):\n",
        "        with open(os.path.join(folder, path)) as f:\n",
        "            texts.append(f.read())\n",
        "    return texts\n",
        "\n",
        "x_train_pos = load_texts('aclImdb/train/pos')\n",
        "x_train_neg = load_texts('aclImdb/train/neg')\n",
        "x_test_pos = load_texts('aclImdb/test/pos')\n",
        "x_test_neg = load_texts('aclImdb/test/neg')\n",
        "\n",
        "x_train = x_train_pos + x_train_neg\n",
        "x_test = x_test_pos + x_test_neg\n",
        "\n",
        "# Embaralhamos o treino para depois fazermos a divisão treino/valid.\n",
        "random.shuffle(x_train)\n",
        "\n",
        "n_train = int(0.8 * len(x_train))\n",
        "\n",
        "x_valid = x_train[n_train:]\n",
        "x_train = x_train[:n_train]\n",
        "\n",
        "print(len(x_train), 'amostras de treino.')\n",
        "print(len(x_valid), 'amostras de desenvolvimento.')\n",
        "print(len(x_test), 'amostras de teste.')\n",
        "\n",
        "print('3 primeiras amostras treino:')\n",
        "for x in x_train[:3]:\n",
        "    print(x[:100])\n",
        "\n",
        "print('3 últimas amostras treino:')\n",
        "for x in x_train[-3:]:\n",
        "    print(x[:100])\n",
        "\n",
        "print('3 primeiras amostras validação:')\n",
        "for x in x_valid[:3]:\n",
        "    print(x[:100])\n",
        "\n",
        "print('3 últimas amostras validação:')\n",
        "for x in x_valid[-3:]:\n",
        "    print(x[:100])"
      ]
    },
    {
      "cell_type": "markdown",
      "metadata": {
        "id": "3jURH7v_jYnI"
      },
      "source": [
        "### Tokenizer"
      ]
    },
    {
      "cell_type": "code",
      "execution_count": null,
      "metadata": {
        "id": "hhJ9Q8DojYnJ"
      },
      "outputs": [],
      "source": [
        "unk = '<UNK>'"
      ]
    },
    {
      "cell_type": "code",
      "execution_count": null,
      "metadata": {
        "id": "sekvvxEteayf"
      },
      "outputs": [],
      "source": [
        "class Tokenizer():\n",
        "\n",
        "    def __init__(self, max_vocab_token=3000):\n",
        "\n",
        "        self.max_vocab_tokens = max_vocab_token\n",
        "\n",
        "    def encode(self, text: str):\n",
        "        # Escreva aqui seu código.\n",
        "        return [self.vocab[word] if word in self.vocab else unk for word in self.tokenize(text)]\n",
        "\n",
        "    def decode(self, tokens: List[int]):\n",
        "        # Escreva aqui seu código.\n",
        "        return ' '.join([self.vocab_inv[token] for token in tokens])\n",
        "\n",
        "    def create_vocab(self, texts: List[str]):\n",
        "        L = [word for phrase in list(map(self.tokenize, texts))\n",
        "             for word in phrase]\n",
        "        k = self.max_vocab_tokens\n",
        "        def vocab(L, k): return {value: key for key, value in enumerate(\n",
        "            dict(collections.Counter(L).most_common(k)))}\n",
        "        self.vocab = vocab(L, k)\n",
        "        self.vocab_inv = {v: k for k, v in self.vocab.items()}\n",
        "    def tokenize(self, text: str):\n",
        "        \"\"\"\n",
        "        Convert string to a list of tokens (i.e., words).\n",
        "        This function lower cases everything and removes punctuation.\n",
        "        \"\"\"\n",
        "        # Escreva aqui seu código.\n",
        "        return re.findall(r\"\\w+|[^\\w\\s]\", text.lower())\n"
      ]
    },
    {
      "cell_type": "code",
      "execution_count": null,
      "metadata": {
        "colab": {
          "base_uri": "https://localhost:8080/"
        },
        "id": "CXSls1q4jYnK",
        "outputId": "2eba452b-37a3-46ec-ef64-bca80e971e32"
      },
      "outputs": [],
      "source": [
        "def test_tokenizer():\n",
        "    phrase = 'a cat walks in the bad.'\n",
        "    assert Tokenizer().tokenize(phrase) == ['a', 'cat', 'walks', 'in', 'the', 'bad', '.']\n",
        "    tokenizer = Tokenizer(len(phrase.split())+1)\n",
        "    vocab_ = tokenizer.create_vocab([phrase])\n",
        "    assert tokenizer.vocab == {'a': 0, 'cat': 1,\n",
        "                               'walks': 2, 'in': 3, 'the': 4, 'bad': 5, '.': 6}\n",
        "    assert tokenizer.vocab_inv == {\n",
        "        0: 'a', 1: 'cat', 2: 'walks', 3: 'in', 4: 'the', 5: 'bad', 6: '.'}\n",
        "    assert tokenizer.encode(phrase) == [0, 1, 2, 3, 4, 5, 6]\n",
        "    assert tokenizer.encode('a cat') == [0, 1]\n",
        "    assert tokenizer.encode('dog') == [unk]\n",
        "    phrase = ['a cat walks in the bad.', 'a dog walks in the good.']\n",
        "    tokenizer = Tokenizer(20)\n",
        "    vocab_ = tokenizer.create_vocab(phrase)\n",
        "    assert tokenizer.vocab == {'a': 0,\n",
        "                               'walks': 1,\n",
        "                               'in': 2,\n",
        "                               'the': 3,\n",
        "                               '.': 4,\n",
        "                               'cat': 5,\n",
        "                               'bad': 6,\n",
        "                               'dog': 7,\n",
        "                               'good': 8}\n",
        "\n",
        "\n",
        "test_tokenizer()\n"
      ]
    },
    {
      "cell_type": "markdown",
      "metadata": {
        "id": "yyKjq6yrjYnL"
      },
      "source": [
        "## Dataset"
      ]
    },
    {
      "cell_type": "code",
      "execution_count": null,
      "metadata": {
        "id": "b01itxqfjYnL"
      },
      "outputs": [],
      "source": [
        "class IMDBdataset(torch.utils.data.Dataset):\n",
        "    def __init__(self, corpus: List[str], tokenizer, context_size=9):\n",
        "        data = []\n",
        "        for text in corpus:\n",
        "            tokens = tokenizer.encode(text)\n",
        "            data.extend([\n",
        "                tokens[i:i+context_size+1] for i in range(len(tokens)-context_size)\n",
        "                if unk not in tokens[i:i+context_size+1] and len(tokens) > context_size\n",
        "            ])\n",
        "        self.data = torch.tensor(data)\n",
        "    \n",
        "    def __len__(self):\n",
        "        return len(self.data)\n",
        "\n",
        "    def __getitem__(self, idx):\n",
        "        return self.data[idx][:-1], self.data[idx][-1].long()\n"
      ]
    },
    {
      "cell_type": "code",
      "execution_count": null,
      "metadata": {
        "id": "EYrnj4hGjYnM"
      },
      "outputs": [],
      "source": [
        "\"\"\"Function to test the dataset\"\"\"\n",
        "def test_dataset():\n",
        "    vocab = Tokenizer()\n",
        "    test_corpus = ['a cat walks in the bad.', 'a dog walks in the good.']\n",
        "    vocab.create_vocab(test_corpus)\n",
        "    unseen_tokens = ['aprendendo sobre o modelo n-grama']\n",
        "    dataset_ = IMDBdataset(unseen_tokens, vocab, 3)\n",
        "    assert len(dataset_) == 0\n",
        "    context_size = 3\n",
        "    dataset_ = IMDBdataset(test_corpus, vocab, context_size=context_size)\n",
        "    assert len(dataset_) == 8\n",
        "    assert len(dataset_.__getitem__(0)[0].tolist()) == context_size\n",
        "    assert len([dataset_.__getitem__(0)[1].tolist()]) == 1\n",
        "    assert dataset_.__getitem__(0)[1].tolist() == vocab.encode('in')[0]\n",
        "    assert dataset_.__getitem__(0)[0].tolist() == vocab.encode('a cat walks')\n",
        "\n",
        "\n",
        "test_dataset()"
      ]
    },
    {
      "cell_type": "markdown",
      "metadata": {
        "id": "dw_jnel3jYnN"
      },
      "source": [
        "## Dataloader"
      ]
    },
    {
      "cell_type": "code",
      "execution_count": null,
      "metadata": {
        "id": "e5BQ1PwMjYnN"
      },
      "outputs": [],
      "source": [
        "\"\"\"function to test the dataloader\"\"\"\n",
        "def test_dataloader_():\n",
        "    tokenizer = Tokenizer()\n",
        "    test_corpus = ['a cat walks in the bad.', 'a dog walks in the good.']\n",
        "    tokenizer.create_vocab(test_corpus)\n",
        "    context_size = 3\n",
        "    dataset_ = IMDBdataset(test_corpus, tokenizer, context_size=context_size)\n",
        "    dataloader_ = torch.utils.data.DataLoader(dataset_, batch_size=2, shuffle=True)\n",
        "    for batch in dataloader_:\n",
        "        assert len(batch[0].shape) == 2\n",
        "        assert len(batch[1].shape) == 1\n",
        "        assert batch[0].shape[0] == batch[1].shape[0]\n",
        "        assert batch[0].shape[1] == context_size\n",
        "        break\n",
        "test_dataloader_()"
      ]
    },
    {
      "cell_type": "markdown",
      "metadata": {
        "id": "MG-C--OKjYnN"
      },
      "source": [
        "## Model"
      ]
    },
    {
      "cell_type": "code",
      "execution_count": null,
      "metadata": {
        "id": "j46U1ZKJjYnO"
      },
      "outputs": [],
      "source": [
        "class BengioModel(torch.nn.Module):\n",
        "    def __init__(self, vocab_size, embedding_dim, hidden_dim, context_size):\n",
        "        super(BengioModel, self).__init__()\n",
        "        self.embedding = nn.Embedding(vocab_size, embedding_dim)\n",
        "        self.linear1 = nn.Linear(context_size*embedding_dim, hidden_dim)\n",
        "        self.linear2 = nn.Linear(hidden_dim, vocab_size)\n",
        "\n",
        "    def forward(self, x):\n",
        "        x = self.embedding(x)\n",
        "        x = x.view(x.size(0), -1)\n",
        "        x = torch.relu(x)\n",
        "        x = self.linear1(x)\n",
        "        x = torch.relu(x)\n",
        "        x = self.linear2(x)\n",
        "        return x\n"
      ]
    },
    {
      "cell_type": "code",
      "execution_count": null,
      "metadata": {
        "id": "9yIaifVVjYnO"
      },
      "outputs": [],
      "source": [
        "\"\"\"Function to test the model\"\"\"\n",
        "def test_model():\n",
        "    tokenizer = Tokenizer()\n",
        "    test_corpus = ['a cat walks in the bad.', 'a dog walks in the good.']\n",
        "    tokenizer.create_vocab(test_corpus)\n",
        "    context_size = 3\n",
        "    dataset_ = IMDBdataset(test_corpus, tokenizer, context_size=context_size)\n",
        "    dataloader_ = torch.utils.data.DataLoader(dataset_, batch_size=2, shuffle=True)\n",
        "    model = BengioModel(len(tokenizer.vocab), 10, 10, context_size)\n",
        "    for batch in dataloader_:\n",
        "        output = model(batch[0])\n",
        "        assert output.shape == (dataloader_.batch_size, len(tokenizer.vocab))\n",
        "        break\n",
        "test_model()"
      ]
    },
    {
      "cell_type": "markdown",
      "metadata": {
        "id": "0n-WLxnNjYnP"
      },
      "source": [
        "## Train and evaluate"
      ]
    },
    {
      "cell_type": "code",
      "execution_count": null,
      "metadata": {
        "id": "8auSq2YkjYnP"
      },
      "outputs": [],
      "source": [
        "\"\"\"Function to train the model, which returns the train loss\"\"\"\n",
        "def train(model, train_dataloader, loss_func, optimizer):\n",
        "    model.train()\n",
        "    train_loss = 0\n",
        "    for x,y in train_dataloader:\n",
        "        x = x.to(device)\n",
        "        y = y.to(device)\n",
        "        optimizer.zero_grad()\n",
        "        output = model(x)\n",
        "        loss = loss_func(output, y)\n",
        "        loss.backward()\n",
        "        optimizer.step()\n",
        "        train_loss += loss.item()\n",
        "    return train_loss / len(train_dataloader)"
      ]
    },
    {
      "cell_type": "code",
      "execution_count": null,
      "metadata": {
        "id": "Nnce_DZyjYnQ"
      },
      "outputs": [],
      "source": [
        "\"\"\"Function to evaluate the model, which returns the validation loss and accuracy\"\"\"\n",
        "def evaluate(model, num_examples, valid_dataloader, loss_func):\n",
        "\n",
        "    correct = 0\n",
        "    val_loss = 0\n",
        "\n",
        "    for x, y in valid_dataloader:\n",
        "        x, y = x.to(device), y.to(device)\n",
        "\n",
        "        with torch.no_grad():\n",
        "\n",
        "          logits = model(x)\n",
        "\n",
        "        preds = logits.argmax(dim=1)\n",
        "\n",
        "        loss = loss_func(logits, y)\n",
        "\n",
        "        val_loss += loss.item()\n",
        "\n",
        "        correct += (preds==y).sum().item()\n",
        "\n",
        "    return (correct / num_examples), (val_loss / len(valid_dataloader))"
      ]
    },
    {
      "cell_type": "code",
      "execution_count": null,
      "metadata": {
        "id": "uxeqftZ7jYnQ"
      },
      "outputs": [],
      "source": [
        "\"\"\"Function to test the training and evaluation functions\"\"\"\n",
        "def test_train_eval():\n",
        "    tokenizer = Tokenizer()\n",
        "    test_corpus = ['a cat walks in the bad.', 'a dog walks in the good.']\n",
        "    tokenizer.create_vocab(test_corpus)\n",
        "    context_size = 3\n",
        "    dataset_ = IMDBdataset(test_corpus, tokenizer, context_size=context_size)\n",
        "    dataloader_ = torch.utils.data.DataLoader(dataset_, batch_size=2, shuffle=True)\n",
        "    model = BengioModel(len(tokenizer.vocab), 10, 10, context_size)\n",
        "    loss_func = nn.CrossEntropyLoss()\n",
        "    optimizer = torch.optim.Adam(model.parameters(), lr=0.01)\n",
        "    train_loss = train(model, dataloader_, loss_func, optimizer)\n",
        "    valid_loss, accuracy = evaluate(model, dataloader_, loss_func)\n",
        "    assert train_loss > 0\n",
        "    assert valid_loss > 0\n",
        "    assert accuracy > 0"
      ]
    },
    {
      "cell_type": "markdown",
      "metadata": {
        "id": "KUOvOXkgjYnQ"
      },
      "source": [
        "## Hyperparameters"
      ]
    },
    {
      "cell_type": "code",
      "execution_count": null,
      "metadata": {
        "colab": {
          "base_uri": "https://localhost:8080/"
        },
        "id": "p7ilYspvjYnR",
        "outputId": "c428dd26-c66c-4802-941a-c9cdb44649a7"
      },
      "outputs": [],
      "source": [
        "learning_rate = 0.0001\n",
        "tokenizer = Tokenizer(max_vocab_token=3000)\n",
        "tokenizer.create_vocab(x_train)\n",
        "context_size = 9\n",
        "dataset_train = IMDBdataset(x_train, tokenizer, context_size=context_size)\n",
        "dataset_valid = IMDBdataset(x_valid, tokenizer, context_size=context_size)\n",
        "num_examples = len(dataset_valid)\n",
        "train_dataloader = torch.utils.data.DataLoader(dataset_train, batch_size=128, shuffle=True)\n",
        "valid_dataloader = torch.utils.data.DataLoader(dataset_valid, batch_size=32, shuffle=True)\n",
        "model = BengioModel(len(tokenizer.vocab), 100, 100, context_size)\n",
        "loss_func = nn.CrossEntropyLoss()\n",
        "optimizer = torch.optim.Adam(model.parameters(), lr=learning_rate)\n",
        "model.to(device)\n",
        "loss_func.to(device)"
      ]
    },
    {
      "cell_type": "code",
      "execution_count": null,
      "metadata": {
        "colab": {
          "base_uri": "https://localhost:8080/"
        },
        "id": "G4dzxoM9jYnR",
        "outputId": "d41a0e31-eb59-4e57-82f9-557333277eb5"
      },
      "outputs": [],
      "source": [
        "\n",
        "\n",
        "epochs = 100\n",
        "train_losses = []\n",
        "valid_losses = []\n",
        "accuracy_train = []\n",
        "perplexities = []\n",
        "accuracy, valid_loss = evaluate(model, num_examples,valid_dataloader, loss_func)\n",
        "print(f\"Pré treino; Validation Loss: {valid_loss:.3f}; Perplexity: {np.exp(valid_loss):.3f}; Accuracy: {accuracy:.3f}\")\n",
        "for t in range(epochs):\n",
        "  train_loss = train(model, train_dataloader, loss_func, optimizer)\n",
        "  train_losses.append(train_loss)\n",
        "  accuracy, valid_loss = evaluate(model, num_examples, valid_dataloader, loss_func)\n",
        "  valid_losses.append(valid_loss)\n",
        "  accuracy_train.append(accuracy)\n",
        "  perplexities.append(np.exp(train_loss))\n",
        "  print(f\"Epoch: {t+1}; Train Loss: {train_loss:.3f}; Perplexity: {np.exp(train_loss):.3f}; Validation Loss: {valid_loss:.3f}; Accuracy: {accuracy:.3f}\")\n",
        "\n"
      ]
    },
    {
      "cell_type": "code",
      "execution_count": null,
      "metadata": {
        "colab": {
          "base_uri": "https://localhost:8080/"
        },
        "id": "mvSiIl-MjYnS",
        "outputId": "6413008c-b5ed-456e-bab8-39c4f4c26bc6"
      },
      "outputs": [],
      "source": [
        "\"\"\"Use the test dataset to evaluate the model\"\"\"\n",
        "\n",
        "\n",
        "dataset_test = IMDBdataset(x_test, tokenizer, context_size=context_size)\n",
        "test_dataloader = torch.utils.data.DataLoader(dataset_test, batch_size=128, shuffle=True)\n",
        "_, loss = evaluate(model, num_examples, test_dataloader, loss_func)\n",
        "print(f\"Test Loss: {loss:.3f}; Perplexity: {np.exp(loss):.3f}; \")"
      ]
    },
    {
      "cell_type": "code",
      "execution_count": null,
      "metadata": {
        "colab": {
          "base_uri": "https://localhost:8080/",
          "height": 281
        },
        "id": "54d5bxy7jYnS",
        "outputId": "93079ac9-7bc2-42ea-8c33-390c22d87d9e"
      },
      "outputs": [],
      "source": [
        "import matplotlib.pyplot as plt\n",
        "\"\"\"Plot the training and validation losses\"\"\"\n",
        "plt.plot(train_losses, label='Train Loss')\n",
        "plt.plot(valid_losses, label='Validation Loss')\n",
        "plt.title('Loss')\n",
        "plt.legend()\n",
        "plt.show()\n"
      ]
    },
    {
      "cell_type": "code",
      "execution_count": null,
      "metadata": {
        "colab": {
          "base_uri": "https://localhost:8080/",
          "height": 281
        },
        "id": "cVa7ZM6ujYnT",
        "outputId": "2008c310-c042-44a9-9903-f353f6ef94ca"
      },
      "outputs": [],
      "source": [
        "import matplotlib.pyplot as plt\n",
        "\"\"\"Plot the training and validation losses\"\"\"\n",
        "plt.plot(np.exp(train_losses), label='Train Loss')\n",
        "plt.plot(np.exp(valid_losses), label='Validation Loss')\n",
        "plt.title('Perplexity')\n",
        "plt.legend()\n",
        "plt.show()"
      ]
    },
    {
      "cell_type": "code",
      "execution_count": null,
      "metadata": {},
      "outputs": [],
      "source": [
        "\"\"\"Get the the first batch of the test dataset\"\"\"\n",
        "for x, y in test_dataloader:\n",
        "    break\n",
        "x_ideal = x[0]\n"
      ]
    },
    {
      "cell_type": "code",
      "execution_count": null,
      "metadata": {},
      "outputs": [],
      "source": []
    },
    {
      "cell_type": "code",
      "execution_count": null,
      "metadata": {},
      "outputs": [],
      "source": [
        "def generate_text(tokenizer, example: str):\n",
        "  train = IMDBdataset([example], tokenizer, context_size=context_size)\n",
        "  dataloader = torch.utils.data.DataLoader(train, batch_size=1, shuffle=True)\n",
        "  for x, y in dataloader:\n",
        "    break\n",
        "  x = x.to(device)\n",
        "  logits = model(x)\n",
        "  pred = logits.argmax(dim=1)\n",
        "  return example + ' ' + tokenizer.decode([pred.item()])\n",
        "generate_text(tokenizer, \"i really love it since i was a boy, the movie is\",)\n",
        "\n"
      ]
    }
  ],
  "metadata": {
    "accelerator": "GPU",
    "colab": {
      "collapsed_sections": [],
      "provenance": []
    },
    "kernelspec": {
      "display_name": "Python 3.8.10 64-bit",
      "language": "python",
      "name": "python3"
    },
    "language_info": {
      "codemirror_mode": {
        "name": "ipython",
        "version": 3
      },
      "file_extension": ".py",
      "mimetype": "text/x-python",
      "name": "python",
      "nbconvert_exporter": "python",
      "pygments_lexer": "ipython3",
      "version": "3.8.10"
    },
    "vscode": {
      "interpreter": {
        "hash": "31f2aee4e71d21fbe5cf8b01ff0e069b9275f58929596ceb00d14d90e3e16cd6"
      }
    }
  },
  "nbformat": 4,
  "nbformat_minor": 0
}
