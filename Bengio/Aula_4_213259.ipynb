{
  "cells": [
    {
      "cell_type": "code",
      "execution_count": 1,
      "metadata": {
        "colab": {
          "base_uri": "https://localhost:8080/"
        },
        "id": "jOdQB41_4ZxG",
        "outputId": "5d0aee3d-3ff8-4aea-c56e-f53f43012e7c"
      },
      "outputs": [
        {
          "name": "stdout",
          "output_type": "stream",
          "text": [
            "Meu nome é Arthur Baia\n"
          ]
        }
      ],
      "source": [
        "nome = 'Arthur Baia'\n",
        "print(f'Meu nome é {nome}')"
      ]
    },
    {
      "cell_type": "markdown",
      "metadata": {
        "id": "2IbuChoAPMEn"
      },
      "source": [
        "#  Exercício: Modelo de Linguagem (Bengio 2003) - MLP + Embeddings"
      ]
    },
    {
      "cell_type": "markdown",
      "metadata": {
        "id": "p_DBb0-Klwf2"
      },
      "source": [
        "Neste exercício iremos treinar uma rede neural similar a do Bengio 2003 para prever a próxima palavra de um texto, data as palavras anteriores como entrada. Esta tarefa é chamada de \"Modelagem da Linguagem\".\n",
        "\n",
        "Algumas dicas:\n",
        "- Inclua caracteres de pontuação (ex: `.` e `,`) no vocabulário.\n",
        "- Deixe tudo como caixa baixa (lower-case).\n",
        "- A escolha do tamanho do vocabulario é importante: ser for muito grande, fica difícil para o modelo aprender boas representações. Se for muito pequeno, o modelo apenas conseguirá gerar textos simples.\n",
        "- Remova qualquer exemplo de treino/validação/teste que tenha pelo menos um token desconhecido (ou na entrada ou na saída). \n",
        "- Este dataset já possui um tamanho razoável e é bem provável que você vai precisar rodar seus experimentos com GPU.\n",
        "- Durante a depuração, faça seu dataset ficar bem pequeno, para que a depuração seja mais rápida e não precise de GPU. Somente ligue a GPU quando o seu laço de treinamento já está funcionando\n",
        "- Não deixe para fazer esse exercício na véspera. Ele é trabalhoso."
      ]
    },
    {
      "cell_type": "markdown",
      "metadata": {
        "id": "YnyhJZtTRNMx"
      },
      "source": [
        "## Importação dos pacotes"
      ]
    },
    {
      "cell_type": "code",
      "execution_count": 2,
      "metadata": {
        "id": "qlIOVCajPWcU"
      },
      "outputs": [],
      "source": [
        "import collections\n",
        "import itertools\n",
        "import functools\n",
        "import math\n",
        "import os\n",
        "import random\n",
        "import re\n",
        "\n",
        "import torch\n",
        "import torch.nn as nn\n",
        "import numpy as np\n",
        "from torch.utils.data import DataLoader\n",
        "from tqdm import tqdm_notebook\n",
        "from typing import List"
      ]
    },
    {
      "cell_type": "code",
      "execution_count": 3,
      "metadata": {
        "colab": {
          "base_uri": "https://localhost:8080/"
        },
        "id": "w9f3PfifAwpU",
        "outputId": "68666324-fd4b-436e-dc58-68b3e6ec3716"
      },
      "outputs": [
        {
          "name": "stdout",
          "output_type": "stream",
          "text": [
            "Mon Sep 19 09:47:22 2022       \n",
            "+-----------------------------------------------------------------------------+\n",
            "| NVIDIA-SMI 470.141.03   Driver Version: 470.141.03   CUDA Version: 11.4     |\n",
            "|-------------------------------+----------------------+----------------------+\n",
            "| GPU  Name        Persistence-M| Bus-Id        Disp.A | Volatile Uncorr. ECC |\n",
            "| Fan  Temp  Perf  Pwr:Usage/Cap|         Memory-Usage | GPU-Util  Compute M. |\n",
            "|                               |                      |               MIG M. |\n",
            "|===============================+======================+======================|\n",
            "|   0  NVIDIA GeForce ...  Off  | 00000000:01:00.0  On |                  N/A |\n",
            "| N/A   52C    P0    23W /  N/A |    678MiB /  5944MiB |     30%      Default |\n",
            "|                               |                      |                  N/A |\n",
            "+-------------------------------+----------------------+----------------------+\n",
            "                                                                               \n",
            "+-----------------------------------------------------------------------------+\n",
            "| Processes:                                                                  |\n",
            "|  GPU   GI   CI        PID   Type   Process name                  GPU Memory |\n",
            "|        ID   ID                                                   Usage      |\n",
            "|=============================================================================|\n",
            "|    0   N/A  N/A      1944      G   /usr/lib/xorg/Xorg                 88MiB |\n",
            "|    0   N/A  N/A      3281      G   /usr/lib/xorg/Xorg                176MiB |\n",
            "|    0   N/A  N/A      3458      G   /usr/bin/gnome-shell               39MiB |\n",
            "|    0   N/A  N/A      4532      G   /usr/lib/firefox/firefox          175MiB |\n",
            "|    0   N/A  N/A      6320      G   ...426625074798686168,131072       27MiB |\n",
            "|    0   N/A  N/A      9828      G   ...RendererForSitePerProcess      158MiB |\n",
            "+-----------------------------------------------------------------------------+\n"
          ]
        }
      ],
      "source": [
        "# Check which GPU we are using\n",
        "!nvidia-smi"
      ]
    },
    {
      "cell_type": "code",
      "execution_count": 4,
      "metadata": {
        "colab": {
          "base_uri": "https://localhost:8080/"
        },
        "id": "whTCe2i7AtoV",
        "outputId": "525d209e-e4d7-4d5b-cadb-262f8280c42e"
      },
      "outputs": [
        {
          "name": "stdout",
          "output_type": "stream",
          "text": [
            "Using cuda:0\n"
          ]
        }
      ],
      "source": [
        "if torch.cuda.is_available(): \n",
        "   dev = \"cuda:0\"\n",
        "else: \n",
        "   dev = \"cpu\"\n",
        "device = torch.device(dev)\n",
        "print('Using {}'.format(device))"
      ]
    },
    {
      "cell_type": "markdown",
      "metadata": {
        "id": "4LfrHHouleJ0"
      },
      "source": [
        "# Carregamento do dataset \n",
        "\n",
        "Primeiro, fazemos download do dataset:"
      ]
    },
    {
      "cell_type": "code",
      "execution_count": 5,
      "metadata": {
        "colab": {
          "base_uri": "https://localhost:8080/"
        },
        "id": "2wbnfzst5O3k",
        "outputId": "c1afe504-87cd-45e6-cda4-dac9ee98dca3"
      },
      "outputs": [
        {
          "name": "stdout",
          "output_type": "stream",
          "text": [
            "File ‘aclImdb.tgz’ already there; not retrieving.\n",
            "\n"
          ]
        }
      ],
      "source": [
        "!wget -nc http://files.fast.ai/data/aclImdb.tgz \n",
        "!tar -xzf aclImdb.tgz"
      ]
    },
    {
      "cell_type": "markdown",
      "metadata": {
        "id": "0Giyi5Rv_NIm"
      },
      "source": [
        "## Carregando o dataset\n",
        "\n",
        "Criaremos uma divisão de treino (80%) e validação (20%) artificialmente.\n",
        "\n",
        "Nota: Evitar de olhar ao máximo o dataset de teste para não ficar enviseado no que será testado. Em aplicações reais, o dataset de teste só estará disponível no futuro, ou seja, é quando o usuário começa a testar o seu produto."
      ]
    },
    {
      "cell_type": "code",
      "execution_count": 6,
      "metadata": {
        "colab": {
          "base_uri": "https://localhost:8080/"
        },
        "id": "0HIN_xLI_TuT",
        "outputId": "2c5000a8-5812-4cb1-a8ea-24ecf3543786"
      },
      "outputs": [
        {
          "name": "stdout",
          "output_type": "stream",
          "text": [
            "20000 amostras de treino.\n",
            "5000 amostras de desenvolvimento.\n",
            "25000 amostras de teste.\n",
            "3 primeiras amostras treino:\n",
            "This movie has great stars in their earlier years: Ingor Stevens never looked prettier; Yul Brynner \n",
            "This piece ain't really worth a comment.. It's simply the worst \"horror\" movie i have ever seen. The\n",
            "This is a totally delightful and unexpected film. You start by following a young person who hopes to\n",
            "3 últimas amostras treino:\n",
            "18 directors had the same task: tell stories of love set in Paris. Naturally, some of them turned ou\n",
            "As a \"Jane Eyre\" fan I was excited when this movie came out. \"At last,\" I thought, \"someone will mak\n",
            "\"Baby Face\" is a precode melodrama starring a very young Barbara Stanwyck, an almost unrecognizable \n",
            "3 primeiras amostras validação:\n",
            "me and my sister saw the premiere last night... it was so good we were glued for the whole thing.. h\n",
            "To be honest, I didn't like \"Executive Decision\" - which was obvious the template - very much, but c\n",
            "Visually disjointed and full of itself, the director apparently chose to seek faux-depth to expand a\n",
            "3 últimas amostras validação:\n",
            "This was stupid funny movie.. Cheech and Chong are the dopiest wasted guys ever... i rate this film \n",
            "I rented this film because of my interest in American history, and especially the somewhat weird sto\n",
            "\"The Notorious Bettie Page\" (2005) <br /><br />Directed By: Mary Harron <br /><br />Starring: Gretch\n"
          ]
        }
      ],
      "source": [
        "def load_texts(folder):\n",
        "    texts = []\n",
        "    for path in os.listdir(folder):\n",
        "        with open(os.path.join(folder, path)) as f:\n",
        "            texts.append(f.read())\n",
        "    return texts\n",
        "\n",
        "x_train_pos = load_texts('aclImdb/train/pos')\n",
        "x_train_neg = load_texts('aclImdb/train/neg')\n",
        "x_test_pos = load_texts('aclImdb/test/pos')\n",
        "x_test_neg = load_texts('aclImdb/test/neg')\n",
        "\n",
        "x_train = x_train_pos + x_train_neg\n",
        "x_test = x_test_pos + x_test_neg\n",
        "\n",
        "# Embaralhamos o treino para depois fazermos a divisão treino/valid.\n",
        "random.shuffle(x_train)\n",
        "\n",
        "n_train = int(0.8 * len(x_train))\n",
        "\n",
        "x_valid = x_train[n_train:]\n",
        "x_train = x_train[:n_train]\n",
        "\n",
        "print(len(x_train), 'amostras de treino.')\n",
        "print(len(x_valid), 'amostras de desenvolvimento.')\n",
        "print(len(x_test), 'amostras de teste.')\n",
        "\n",
        "print('3 primeiras amostras treino:')\n",
        "for x in x_train[:3]:\n",
        "    print(x[:100])\n",
        "\n",
        "print('3 últimas amostras treino:')\n",
        "for x in x_train[-3:]:\n",
        "    print(x[:100])\n",
        "\n",
        "print('3 primeiras amostras validação:')\n",
        "for x in x_valid[:3]:\n",
        "    print(x[:100])\n",
        "\n",
        "print('3 últimas amostras validação:')\n",
        "for x in x_valid[-3:]:\n",
        "    print(x[:100])"
      ]
    },
    {
      "cell_type": "markdown",
      "metadata": {
        "id": "3jURH7v_jYnI"
      },
      "source": [
        "### Tokenizer"
      ]
    },
    {
      "cell_type": "code",
      "execution_count": 7,
      "metadata": {
        "id": "hhJ9Q8DojYnJ"
      },
      "outputs": [],
      "source": [
        "unk = '<UNK>'"
      ]
    },
    {
      "cell_type": "code",
      "execution_count": 27,
      "metadata": {
        "id": "sekvvxEteayf"
      },
      "outputs": [],
      "source": [
        "class Tokenizer():\n",
        "\n",
        "    def __init__(self, max_vocab_token=3000):\n",
        "\n",
        "        self.max_vocab_tokens = max_vocab_token\n",
        "\n",
        "    def encode(self, text: str):\n",
        "        # Escreva aqui seu código.\n",
        "        return [self.vocab[word] if word in self.vocab else unk for word in self.tokenize(text)]\n",
        "\n",
        "    def decode(self, tokens: List[int]):\n",
        "        # Escreva aqui seu código.\n",
        "        return ' '.join([self.vocab_inv[token] for token in tokens])\n",
        "\n",
        "    def create_vocab(self, texts: List[str]):\n",
        "        L = [word for phrase in list(map(self.tokenize, texts))\n",
        "             for word in phrase]\n",
        "        k = self.max_vocab_tokens\n",
        "        def vocab(L, k): return {value: key for key, value in enumerate(\n",
        "            dict(collections.Counter(L).most_common(k)))}\n",
        "        self.vocab = vocab(L, k)\n",
        "        self.vocab_inv = {v: k for k, v in self.vocab.items()}\n",
        "    def tokenize(self, text: str):\n",
        "        \"\"\"\n",
        "        Convert string to a list of tokens (i.e., words).\n",
        "        This function lower cases everything and removes punctuation.\n",
        "        \"\"\"\n",
        "        # Escreva aqui seu código.\n",
        "        return re.findall(r\"\\w+|[^\\w\\s]\", text.lower())\n"
      ]
    },
    {
      "cell_type": "code",
      "execution_count": 26,
      "metadata": {
        "colab": {
          "base_uri": "https://localhost:8080/"
        },
        "id": "CXSls1q4jYnK",
        "outputId": "2eba452b-37a3-46ec-ef64-bca80e971e32"
      },
      "outputs": [],
      "source": [
        "def test_tokenizer():\n",
        "    phrase = 'a cat walks in the bad.'\n",
        "    assert Tokenizer().tokenize(phrase) == ['a', 'cat', 'walks', 'in', 'the', 'bad', '.']\n",
        "    tokenizer = Tokenizer(len(phrase.split())+1)\n",
        "    vocab_ = tokenizer.create_vocab([phrase])\n",
        "    assert tokenizer.vocab == {'a': 0, 'cat': 1,\n",
        "                               'walks': 2, 'in': 3, 'the': 4, 'bad': 5, '.': 6}\n",
        "    assert tokenizer.vocab_inv == {\n",
        "        0: 'a', 1: 'cat', 2: 'walks', 3: 'in', 4: 'the', 5: 'bad', 6: '.'}\n",
        "    assert tokenizer.encode(phrase) == [0, 1, 2, 3, 4, 5, 6]\n",
        "    assert tokenizer.encode('a cat') == [0, 1]\n",
        "    assert tokenizer.encode('dog') == [unk]\n",
        "    phrase = ['a cat walks in the bad.', 'a dog walks in the good.']\n",
        "    tokenizer = Tokenizer(20)\n",
        "    vocab_ = tokenizer.create_vocab(phrase)\n",
        "    assert tokenizer.vocab == {'a': 0,\n",
        "                               'walks': 1,\n",
        "                               'in': 2,\n",
        "                               'the': 3,\n",
        "                               '.': 4,\n",
        "                               'cat': 5,\n",
        "                               'bad': 6,\n",
        "                               'dog': 7,\n",
        "                               'good': 8}\n",
        "\n",
        "\n",
        "test_tokenizer()\n"
      ]
    },
    {
      "cell_type": "markdown",
      "metadata": {
        "id": "yyKjq6yrjYnL"
      },
      "source": [
        "## Dataset"
      ]
    },
    {
      "cell_type": "code",
      "execution_count": 80,
      "metadata": {
        "id": "b01itxqfjYnL"
      },
      "outputs": [],
      "source": [
        "class IMDBdataset(torch.utils.data.Dataset):\n",
        "    def __init__(self, corpus: List[str], tokenizer, context_size=9):\n",
        "        data = []\n",
        "        for text in corpus:\n",
        "            tokens = tokenizer.encode(text)\n",
        "            data.extend([\n",
        "                tokens[i:i+context_size+1] for i in range(len(tokens)-context_size)\n",
        "                if unk not in tokens[i:i+context_size+1] and len(tokens) > context_size\n",
        "            ])\n",
        "        self.data = torch.tensor(data)\n",
        "    \n",
        "    def __len__(self):\n",
        "        return len(self.data)\n",
        "\n",
        "    def __getitem__(self, idx):\n",
        "        return self.data[idx][:-1], self.data[idx][-1].long()\n"
      ]
    },
    {
      "cell_type": "code",
      "execution_count": 81,
      "metadata": {
        "id": "EYrnj4hGjYnM"
      },
      "outputs": [],
      "source": [
        "\"\"\"Function to test the dataset\"\"\"\n",
        "def test_dataset():\n",
        "    vocab = Tokenizer()\n",
        "    test_corpus = ['a cat walks in the bad.', 'a dog walks in the good.']\n",
        "    vocab.create_vocab(test_corpus)\n",
        "    unseen_tokens = ['aprendendo sobre o modelo n-grama']\n",
        "    dataset_ = IMDBdataset(unseen_tokens, vocab, 3)\n",
        "    assert len(dataset_) == 0\n",
        "    context_size = 3\n",
        "    dataset_ = IMDBdataset(test_corpus, vocab, context_size=context_size)\n",
        "    assert len(dataset_) == 8\n",
        "    assert len(dataset_.__getitem__(0)[0].tolist()) == context_size\n",
        "    assert len([dataset_.__getitem__(0)[1].tolist()]) == 1\n",
        "    assert dataset_.__getitem__(0)[1].tolist() == vocab.encode('in')[0]\n",
        "    assert dataset_.__getitem__(0)[0].tolist() == vocab.encode('a cat walks')\n",
        "\n",
        "\n",
        "test_dataset()"
      ]
    },
    {
      "cell_type": "markdown",
      "metadata": {
        "id": "dw_jnel3jYnN"
      },
      "source": [
        "## Dataloader"
      ]
    },
    {
      "cell_type": "code",
      "execution_count": 95,
      "metadata": {
        "id": "e5BQ1PwMjYnN"
      },
      "outputs": [],
      "source": [
        "\"\"\"function to test the dataloader\"\"\"\n",
        "def test_dataloader_():\n",
        "    tokenizer = Tokenizer()\n",
        "    test_corpus = ['a cat walks in the bad.', 'a dog walks in the good.']\n",
        "    tokenizer.create_vocab(test_corpus)\n",
        "    context_size = 3\n",
        "    dataset_ = IMDBdataset(test_corpus, tokenizer, context_size=context_size)\n",
        "    dataloader_ = torch.utils.data.DataLoader(dataset_, batch_size=2, shuffle=True)\n",
        "    for batch in dataloader_:\n",
        "        assert len(batch[0].shape) == 2\n",
        "        assert len(batch[1].shape) == 1\n",
        "        assert batch[0].shape[0] == batch[1].shape[0]\n",
        "        assert batch[0].shape[1] == context_size\n",
        "        break\n",
        "test_dataloader_()"
      ]
    },
    {
      "cell_type": "markdown",
      "metadata": {
        "id": "MG-C--OKjYnN"
      },
      "source": [
        "## Model"
      ]
    },
    {
      "cell_type": "code",
      "execution_count": 83,
      "metadata": {
        "id": "j46U1ZKJjYnO"
      },
      "outputs": [],
      "source": [
        "class BengioModel(torch.nn.Module):\n",
        "    def __init__(self, vocab_size, embedding_dim, hidden_dim, context_size):\n",
        "        super(BengioModel, self).__init__()\n",
        "        self.embedding = nn.Embedding(vocab_size, embedding_dim)\n",
        "        self.linear1 = nn.Linear(context_size*embedding_dim, hidden_dim)\n",
        "        self.linear2 = nn.Linear(hidden_dim, vocab_size)\n",
        "\n",
        "    def forward(self, x):\n",
        "        x = self.embedding(x)\n",
        "        x = x.view(x.size(0), -1)\n",
        "        x = torch.relu(x)\n",
        "        x = self.linear1(x)\n",
        "        x = torch.relu(x)\n",
        "        x = self.linear2(x)\n",
        "        return x\n"
      ]
    },
    {
      "cell_type": "code",
      "execution_count": 85,
      "metadata": {
        "id": "9yIaifVVjYnO"
      },
      "outputs": [],
      "source": [
        "\"\"\"Function to test the model\"\"\"\n",
        "def test_model():\n",
        "    tokenizer = Tokenizer()\n",
        "    test_corpus = ['a cat walks in the bad.', 'a dog walks in the good.']\n",
        "    tokenizer.create_vocab(test_corpus)\n",
        "    context_size = 3\n",
        "    dataset_ = IMDBdataset(test_corpus, tokenizer, context_size=context_size)\n",
        "    dataloader_ = torch.utils.data.DataLoader(dataset_, batch_size=2, shuffle=True)\n",
        "    model = BengioModel(len(tokenizer.vocab), 10, 10, context_size)\n",
        "    for batch in dataloader_:\n",
        "        output = model(batch[0])\n",
        "        assert output.shape == (dataloader_.batch_size, len(tokenizer.vocab))\n",
        "        break\n",
        "test_model()"
      ]
    },
    {
      "cell_type": "markdown",
      "metadata": {
        "id": "0n-WLxnNjYnP"
      },
      "source": [
        "## Train and evaluate"
      ]
    },
    {
      "cell_type": "code",
      "execution_count": 33,
      "metadata": {
        "id": "8auSq2YkjYnP"
      },
      "outputs": [],
      "source": [
        "\"\"\"Function to train the model, which returns the train loss\"\"\"\n",
        "def train(model, train_dataloader, loss_func, optimizer):\n",
        "    model.train()\n",
        "    train_loss = 0\n",
        "    for x,y in train_dataloader:\n",
        "        x = x.to(device)\n",
        "        y = y.to(device)\n",
        "        optimizer.zero_grad()\n",
        "        output = model(x)\n",
        "        loss = loss_func(output, y)\n",
        "        loss.backward()\n",
        "        optimizer.step()\n",
        "        train_loss += loss.item()\n",
        "    return train_loss / len(train_dataloader)"
      ]
    },
    {
      "cell_type": "code",
      "execution_count": 34,
      "metadata": {
        "id": "Nnce_DZyjYnQ"
      },
      "outputs": [],
      "source": [
        "\"\"\"Function to evaluate the model, which returns the validation loss and accuracy\"\"\"\n",
        "def evaluate(model, num_examples, valid_dataloader, loss_func):\n",
        "\n",
        "    correct = 0\n",
        "    val_loss = 0\n",
        "\n",
        "    for x, y in valid_dataloader:\n",
        "        x, y = x.to(device), y.to(device)\n",
        "\n",
        "        with torch.no_grad():\n",
        "\n",
        "          logits = model(x)\n",
        "\n",
        "        preds = logits.argmax(dim=1)\n",
        "\n",
        "        loss = loss_func(logits, y)\n",
        "\n",
        "        val_loss += loss.item()\n",
        "\n",
        "        correct += (preds==y).sum().item()\n",
        "\n",
        "    return (correct / num_examples), (val_loss / len(valid_dataloader))"
      ]
    },
    {
      "cell_type": "code",
      "execution_count": 86,
      "metadata": {
        "id": "uxeqftZ7jYnQ"
      },
      "outputs": [],
      "source": [
        "\"\"\"Function to test the training and evaluation functions\"\"\"\n",
        "def test_train_eval():\n",
        "    tokenizer = Tokenizer()\n",
        "    test_corpus = ['a cat walks in the bad.', 'a dog walks in the good.']\n",
        "    tokenizer.create_vocab(test_corpus)\n",
        "    context_size = 3\n",
        "    dataset_ = IMDBdataset(test_corpus, tokenizer, context_size=context_size)\n",
        "    dataloader_ = torch.utils.data.DataLoader(dataset_, batch_size=2, shuffle=True)\n",
        "    model = BengioModel(len(tokenizer.vocab), 10, 10, context_size)\n",
        "    loss_func = nn.CrossEntropyLoss()\n",
        "    optimizer = torch.optim.Adam(model.parameters(), lr=0.01)\n",
        "    train_loss = train(model, dataloader_, loss_func, optimizer)\n",
        "    valid_loss, accuracy = evaluate(model, dataloader_, loss_func)\n",
        "    assert train_loss > 0\n",
        "    assert valid_loss > 0\n",
        "    assert accuracy > 0"
      ]
    },
    {
      "cell_type": "markdown",
      "metadata": {
        "id": "KUOvOXkgjYnQ"
      },
      "source": [
        "## Hyperparameters"
      ]
    },
    {
      "cell_type": "code",
      "execution_count": 87,
      "metadata": {
        "colab": {
          "base_uri": "https://localhost:8080/"
        },
        "id": "p7ilYspvjYnR",
        "outputId": "c428dd26-c66c-4802-941a-c9cdb44649a7"
      },
      "outputs": [
        {
          "data": {
            "text/plain": [
              "CrossEntropyLoss()"
            ]
          },
          "execution_count": 87,
          "metadata": {},
          "output_type": "execute_result"
        }
      ],
      "source": [
        "learning_rate = 0.0001\n",
        "tokenizer = Tokenizer(max_vocab_token=3000)\n",
        "tokenizer.create_vocab(x_train)\n",
        "context_size = 9\n",
        "dataset_train = IMDBdataset(x_train, tokenizer, context_size=context_size)\n",
        "dataset_valid = IMDBdataset(x_valid, tokenizer, context_size=context_size)\n",
        "num_examples = len(dataset_valid)\n",
        "train_dataloader = torch.utils.data.DataLoader(dataset_train, batch_size=128, shuffle=True)\n",
        "valid_dataloader = torch.utils.data.DataLoader(dataset_valid, batch_size=32, shuffle=True)\n",
        "model = BengioModel(len(tokenizer.vocab), 100, 100, context_size)\n",
        "loss_func = nn.CrossEntropyLoss()\n",
        "optimizer = torch.optim.Adam(model.parameters(), lr=learning_rate)\n",
        "model.to(device)\n",
        "loss_func.to(device)"
      ]
    },
    {
      "cell_type": "code",
      "execution_count": 165,
      "metadata": {
        "colab": {
          "base_uri": "https://localhost:8080/"
        },
        "id": "G4dzxoM9jYnR",
        "outputId": "d41a0e31-eb59-4e57-82f9-557333277eb5"
      },
      "outputs": [
        {
          "name": "stdout",
          "output_type": "stream",
          "text": [
            "Pré treino; Validation Loss: 8.064; Perplexity: 3178.930; Accuracy: 0.000\n",
            "Epoch: 1; Train Loss: 4.830; Perplexity: 125.154; Validation Loss: 4.527; Accuracy: 0.231\n",
            "Epoch: 2; Train Loss: 4.401; Perplexity: 81.553; Validation Loss: 4.335; Accuracy: 0.247\n",
            "Epoch: 3; Train Loss: 4.250; Perplexity: 70.126; Validation Loss: 4.234; Accuracy: 0.256\n",
            "Epoch: 4; Train Loss: 4.157; Perplexity: 63.850; Validation Loss: 4.169; Accuracy: 0.262\n",
            "Epoch: 5; Train Loss: 4.090; Perplexity: 59.741; Validation Loss: 4.121; Accuracy: 0.266\n",
            "Epoch: 6; Train Loss: 4.039; Perplexity: 56.798; Validation Loss: 4.084; Accuracy: 0.270\n",
            "Epoch: 7; Train Loss: 3.999; Perplexity: 54.552; Validation Loss: 4.060; Accuracy: 0.272\n",
            "Epoch: 8; Train Loss: 3.966; Perplexity: 52.791; Validation Loss: 4.037; Accuracy: 0.275\n",
            "Epoch: 9; Train Loss: 3.939; Perplexity: 51.354; Validation Loss: 4.021; Accuracy: 0.276\n",
            "Epoch: 10; Train Loss: 3.916; Perplexity: 50.182; Validation Loss: 4.007; Accuracy: 0.278\n",
            "Epoch: 11; Train Loss: 3.896; Perplexity: 49.195; Validation Loss: 3.995; Accuracy: 0.279\n",
            "Epoch: 12; Train Loss: 3.879; Perplexity: 48.355; Validation Loss: 3.984; Accuracy: 0.280\n",
            "Epoch: 13; Train Loss: 3.863; Perplexity: 47.631; Validation Loss: 3.977; Accuracy: 0.282\n",
            "Epoch: 14; Train Loss: 3.850; Perplexity: 47.003; Validation Loss: 3.970; Accuracy: 0.282\n",
            "Epoch: 15; Train Loss: 3.838; Perplexity: 46.445; Validation Loss: 3.964; Accuracy: 0.283\n",
            "Epoch: 16; Train Loss: 3.828; Perplexity: 45.958; Validation Loss: 3.959; Accuracy: 0.284\n",
            "Epoch: 17; Train Loss: 3.818; Perplexity: 45.520; Validation Loss: 3.953; Accuracy: 0.284\n",
            "Epoch: 18; Train Loss: 3.809; Perplexity: 45.127; Validation Loss: 3.949; Accuracy: 0.285\n",
            "Epoch: 19; Train Loss: 3.802; Perplexity: 44.773; Validation Loss: 3.947; Accuracy: 0.286\n",
            "Epoch: 20; Train Loss: 3.794; Perplexity: 44.445; Validation Loss: 3.945; Accuracy: 0.286\n",
            "Epoch: 21; Train Loss: 3.788; Perplexity: 44.157; Validation Loss: 3.942; Accuracy: 0.287\n",
            "Epoch: 22; Train Loss: 3.781; Perplexity: 43.878; Validation Loss: 3.940; Accuracy: 0.287\n",
            "Epoch: 23; Train Loss: 3.776; Perplexity: 43.634; Validation Loss: 3.940; Accuracy: 0.287\n",
            "Epoch: 24; Train Loss: 3.770; Perplexity: 43.397; Validation Loss: 3.933; Accuracy: 0.287\n",
            "Epoch: 25; Train Loss: 3.765; Perplexity: 43.179; Validation Loss: 3.932; Accuracy: 0.288\n",
            "Epoch: 26; Train Loss: 3.761; Perplexity: 42.977; Validation Loss: 3.933; Accuracy: 0.288\n",
            "Epoch: 27; Train Loss: 3.756; Perplexity: 42.792; Validation Loss: 3.930; Accuracy: 0.288\n",
            "Epoch: 28; Train Loss: 3.752; Perplexity: 42.620; Validation Loss: 3.932; Accuracy: 0.289\n",
            "Epoch: 29; Train Loss: 3.748; Perplexity: 42.456; Validation Loss: 3.928; Accuracy: 0.289\n",
            "Epoch: 30; Train Loss: 3.745; Perplexity: 42.309; Validation Loss: 3.928; Accuracy: 0.290\n",
            "Epoch: 31; Train Loss: 3.742; Perplexity: 42.169; Validation Loss: 3.928; Accuracy: 0.289\n",
            "Epoch: 32; Train Loss: 3.739; Perplexity: 42.037; Validation Loss: 3.929; Accuracy: 0.289\n",
            "Epoch: 33; Train Loss: 3.736; Perplexity: 41.917; Validation Loss: 3.927; Accuracy: 0.289\n",
            "Epoch: 34; Train Loss: 3.733; Perplexity: 41.804; Validation Loss: 3.925; Accuracy: 0.290\n",
            "Epoch: 35; Train Loss: 3.730; Perplexity: 41.694; Validation Loss: 3.924; Accuracy: 0.290\n",
            "Epoch: 36; Train Loss: 3.728; Perplexity: 41.591; Validation Loss: 3.924; Accuracy: 0.290\n",
            "Epoch: 37; Train Loss: 3.726; Perplexity: 41.493; Validation Loss: 3.924; Accuracy: 0.290\n",
            "Epoch: 38; Train Loss: 3.724; Perplexity: 41.410; Validation Loss: 3.923; Accuracy: 0.291\n",
            "Epoch: 39; Train Loss: 3.721; Perplexity: 41.321; Validation Loss: 3.927; Accuracy: 0.291\n",
            "Epoch: 40; Train Loss: 3.719; Perplexity: 41.243; Validation Loss: 3.923; Accuracy: 0.291\n",
            "Epoch: 41; Train Loss: 3.718; Perplexity: 41.166; Validation Loss: 3.922; Accuracy: 0.290\n",
            "Epoch: 42; Train Loss: 3.716; Perplexity: 41.095; Validation Loss: 3.920; Accuracy: 0.291\n",
            "Epoch: 43; Train Loss: 3.714; Perplexity: 41.025; Validation Loss: 3.922; Accuracy: 0.290\n",
            "Epoch: 44; Train Loss: 3.713; Perplexity: 40.963; Validation Loss: 3.922; Accuracy: 0.291\n",
            "Epoch: 45; Train Loss: 3.711; Perplexity: 40.895; Validation Loss: 3.921; Accuracy: 0.291\n",
            "Epoch: 46; Train Loss: 3.710; Perplexity: 40.838; Validation Loss: 3.921; Accuracy: 0.291\n",
            "Epoch: 47; Train Loss: 3.708; Perplexity: 40.784; Validation Loss: 3.921; Accuracy: 0.292\n",
            "Epoch: 48; Train Loss: 3.707; Perplexity: 40.738; Validation Loss: 3.924; Accuracy: 0.291\n",
            "Epoch: 49; Train Loss: 3.706; Perplexity: 40.691; Validation Loss: 3.924; Accuracy: 0.292\n",
            "Epoch: 50; Train Loss: 3.705; Perplexity: 40.642; Validation Loss: 3.922; Accuracy: 0.291\n",
            "Epoch: 51; Train Loss: 3.703; Perplexity: 40.587; Validation Loss: 3.923; Accuracy: 0.292\n",
            "Epoch: 52; Train Loss: 3.703; Perplexity: 40.551; Validation Loss: 3.927; Accuracy: 0.292\n"
          ]
        },
        {
          "ename": "KeyboardInterrupt",
          "evalue": "",
          "output_type": "error",
          "traceback": [
            "\u001b[0;31m---------------------------------------------------------------------------\u001b[0m",
            "\u001b[0;31mKeyboardInterrupt\u001b[0m                         Traceback (most recent call last)",
            "\u001b[1;32m/home/arthur/Documents/machineLearning/NLPcourse/Bengio/Aula_4_213259.ipynb Cell 30\u001b[0m in \u001b[0;36m<cell line: 8>\u001b[0;34m()\u001b[0m\n\u001b[1;32m      <a href='vscode-notebook-cell:/home/arthur/Documents/machineLearning/NLPcourse/Bengio/Aula_4_213259.ipynb#X41sZmlsZQ%3D%3D?line=6'>7</a>\u001b[0m \u001b[39mprint\u001b[39m(\u001b[39mf\u001b[39m\u001b[39m\"\u001b[39m\u001b[39mPré treino; Validation Loss: \u001b[39m\u001b[39m{\u001b[39;00mvalid_loss\u001b[39m:\u001b[39;00m\u001b[39m.3f\u001b[39m\u001b[39m}\u001b[39;00m\u001b[39m; Perplexity: \u001b[39m\u001b[39m{\u001b[39;00mnp\u001b[39m.\u001b[39mexp(valid_loss)\u001b[39m:\u001b[39;00m\u001b[39m.3f\u001b[39m\u001b[39m}\u001b[39;00m\u001b[39m; Accuracy: \u001b[39m\u001b[39m{\u001b[39;00maccuracy\u001b[39m:\u001b[39;00m\u001b[39m.3f\u001b[39m\u001b[39m}\u001b[39;00m\u001b[39m\"\u001b[39m)\n\u001b[1;32m      <a href='vscode-notebook-cell:/home/arthur/Documents/machineLearning/NLPcourse/Bengio/Aula_4_213259.ipynb#X41sZmlsZQ%3D%3D?line=7'>8</a>\u001b[0m \u001b[39mfor\u001b[39;00m t \u001b[39min\u001b[39;00m \u001b[39mrange\u001b[39m(epochs):\n\u001b[0;32m----> <a href='vscode-notebook-cell:/home/arthur/Documents/machineLearning/NLPcourse/Bengio/Aula_4_213259.ipynb#X41sZmlsZQ%3D%3D?line=8'>9</a>\u001b[0m   train_loss \u001b[39m=\u001b[39m train(model, train_dataloader, loss_func, optimizer)\n\u001b[1;32m     <a href='vscode-notebook-cell:/home/arthur/Documents/machineLearning/NLPcourse/Bengio/Aula_4_213259.ipynb#X41sZmlsZQ%3D%3D?line=9'>10</a>\u001b[0m   train_losses\u001b[39m.\u001b[39mappend(train_loss)\n\u001b[1;32m     <a href='vscode-notebook-cell:/home/arthur/Documents/machineLearning/NLPcourse/Bengio/Aula_4_213259.ipynb#X41sZmlsZQ%3D%3D?line=10'>11</a>\u001b[0m   accuracy, valid_loss \u001b[39m=\u001b[39m evaluate(model, num_examples, valid_dataloader, loss_func)\n",
            "\u001b[1;32m/home/arthur/Documents/machineLearning/NLPcourse/Bengio/Aula_4_213259.ipynb Cell 30\u001b[0m in \u001b[0;36mtrain\u001b[0;34m(model, train_dataloader, loss_func, optimizer)\u001b[0m\n\u001b[1;32m     <a href='vscode-notebook-cell:/home/arthur/Documents/machineLearning/NLPcourse/Bengio/Aula_4_213259.ipynb#X41sZmlsZQ%3D%3D?line=9'>10</a>\u001b[0m     loss \u001b[39m=\u001b[39m loss_func(output, y)\n\u001b[1;32m     <a href='vscode-notebook-cell:/home/arthur/Documents/machineLearning/NLPcourse/Bengio/Aula_4_213259.ipynb#X41sZmlsZQ%3D%3D?line=10'>11</a>\u001b[0m     loss\u001b[39m.\u001b[39mbackward()\n\u001b[0;32m---> <a href='vscode-notebook-cell:/home/arthur/Documents/machineLearning/NLPcourse/Bengio/Aula_4_213259.ipynb#X41sZmlsZQ%3D%3D?line=11'>12</a>\u001b[0m     optimizer\u001b[39m.\u001b[39;49mstep()\n\u001b[1;32m     <a href='vscode-notebook-cell:/home/arthur/Documents/machineLearning/NLPcourse/Bengio/Aula_4_213259.ipynb#X41sZmlsZQ%3D%3D?line=12'>13</a>\u001b[0m     train_loss \u001b[39m+\u001b[39m\u001b[39m=\u001b[39m loss\u001b[39m.\u001b[39mitem()\n\u001b[1;32m     <a href='vscode-notebook-cell:/home/arthur/Documents/machineLearning/NLPcourse/Bengio/Aula_4_213259.ipynb#X41sZmlsZQ%3D%3D?line=13'>14</a>\u001b[0m \u001b[39mreturn\u001b[39;00m train_loss \u001b[39m/\u001b[39m \u001b[39mlen\u001b[39m(train_dataloader)\n",
            "\u001b[0;31mKeyboardInterrupt\u001b[0m: "
          ]
        }
      ],
      "source": [
        "\n",
        "\n",
        "epochs = 100\n",
        "train_losses = []\n",
        "valid_losses = []\n",
        "accuracy_train = []\n",
        "perplexities = []\n",
        "accuracy, valid_loss = evaluate(model, num_examples,valid_dataloader, loss_func)\n",
        "print(f\"Pré treino; Validation Loss: {valid_loss:.3f}; Perplexity: {np.exp(valid_loss):.3f}; Accuracy: {accuracy:.3f}\")\n",
        "for t in range(epochs):\n",
        "  train_loss = train(model, train_dataloader, loss_func, optimizer)\n",
        "  train_losses.append(train_loss)\n",
        "  accuracy, valid_loss = evaluate(model, num_examples, valid_dataloader, loss_func)\n",
        "  valid_losses.append(valid_loss)\n",
        "  accuracy_train.append(accuracy)\n",
        "  perplexities.append(np.exp(train_loss))\n",
        "  print(f\"Epoch: {t+1}; Train Loss: {train_loss:.3f}; Perplexity: {np.exp(train_loss):.3f}; Validation Loss: {valid_loss:.3f}; Accuracy: {accuracy:.3f}\")\n",
        "\n"
      ]
    },
    {
      "cell_type": "code",
      "execution_count": null,
      "metadata": {
        "colab": {
          "base_uri": "https://localhost:8080/"
        },
        "id": "mvSiIl-MjYnS",
        "outputId": "6413008c-b5ed-456e-bab8-39c4f4c26bc6"
      },
      "outputs": [
        {
          "name": "stdout",
          "output_type": "stream",
          "text": [
            "Test Loss: 8.065; Perplexity: 3180.964; \n"
          ]
        }
      ],
      "source": [
        "\"\"\"Use the test dataset to evaluate the model\"\"\"\n",
        "\n",
        "\n",
        "dataset_test = IMDBdataset(x_test, tokenizer, context_size=context_size)\n",
        "test_dataloader = torch.utils.data.DataLoader(dataset_test, batch_size=128, shuffle=True)\n",
        "_, loss = evaluate(model, num_examples, test_dataloader, loss_func)\n",
        "print(f\"Test Loss: {loss:.3f}; Perplexity: {np.exp(loss):.3f}; \")"
      ]
    },
    {
      "cell_type": "code",
      "execution_count": null,
      "metadata": {
        "colab": {
          "base_uri": "https://localhost:8080/",
          "height": 281
        },
        "id": "54d5bxy7jYnS",
        "outputId": "93079ac9-7bc2-42ea-8c33-390c22d87d9e"
      },
      "outputs": [
        {
          "data": {
            "image/png": "[encoded data removed]",
            "text/plain": [
              "<Figure size 432x288 with 1 Axes>"
            ]
          },
          "metadata": {
            "needs_background": "light"
          },
          "output_type": "display_data"
        }
      ],
      "source": [
        "import matplotlib.pyplot as plt\n",
        "\"\"\"Plot the training and validation losses\"\"\"\n",
        "plt.plot(train_losses, label='Train Loss')\n",
        "plt.plot(valid_losses, label='Validation Loss')\n",
        "plt.title('Loss')\n",
        "plt.legend()\n",
        "plt.show()\n"
      ]
    },
    {
      "cell_type": "code",
      "execution_count": null,
      "metadata": {
        "colab": {
          "base_uri": "https://localhost:8080/",
          "height": 281
        },
        "id": "cVa7ZM6ujYnT",
        "outputId": "2008c310-c042-44a9-9903-f353f6ef94ca"
      },
      "outputs": [
        {
          "data": {
            "image/png": "[encoded data removed]",
            "text/plain": [
              "<Figure size 432x288 with 1 Axes>"
            ]
          },
          "metadata": {
            "needs_background": "light"
          },
          "output_type": "display_data"
        }
      ],
      "source": [
        "import matplotlib.pyplot as plt\n",
        "\"\"\"Plot the training and validation losses\"\"\"\n",
        "plt.plot(np.exp(train_losses), label='Train Loss')\n",
        "plt.plot(np.exp(valid_losses), label='Validation Loss')\n",
        "plt.title('Perplexity')\n",
        "plt.legend()\n",
        "plt.show()"
      ]
    },
    {
      "cell_type": "code",
      "execution_count": 104,
      "metadata": {},
      "outputs": [],
      "source": [
        "\"\"\"Get the the first batch of the test dataset\"\"\"\n",
        "for x, y in test_dataloader:\n",
        "    break\n",
        "x_ideal = x[0]\n"
      ]
    },
    {
      "cell_type": "code",
      "execution_count": 164,
      "metadata": {},
      "outputs": [
        {
          "data": {
            "text/plain": [
              "'i really love it since i was a boy, the movie is destroy'"
            ]
          },
          "execution_count": 164,
          "metadata": {},
          "output_type": "execute_result"
        }
      ],
      "source": [
        "def generate_text(tokenizer, seed: str, gen_length: int = 50):\n",
        "  train = IMDBdataset([seed], tokenizer, context_size=context_size)\n",
        "  dataloader = torch.utils.data.DataLoader(train, batch_size=1, shuffle=True)\n",
        "  for x, y in dataloader:\n",
        "    break\n",
        "  x = x.to(device)\n",
        "  for i in range(gen_length):\n",
        "    logits = model(x)\n",
        "    pred = logits.argmax(dim=1)\n",
        "    return seed + ' ' + tokenizer.decode([pred.item()])\n",
        "generate_text(tokenizer, \"i really love it since i was a boy, the movie is\", gen_length=1)\n",
        "\n"
      ]
    },
    {
      "cell_type": "code",
      "execution_count": null,
      "metadata": {},
      "outputs": [],
      "source": []
    }
  ],
  "metadata": {
    "accelerator": "GPU",
    "colab": {
      "collapsed_sections": [],
      "provenance": []
    },
    "kernelspec": {
      "display_name": "Python 3.8.10 64-bit",
      "language": "python",
      "name": "python3"
    },
    "language_info": {
      "codemirror_mode": {
        "name": "ipython",
        "version": 3
      },
      "file_extension": ".py",
      "mimetype": "text/x-python",
      "name": "python",
      "nbconvert_exporter": "python",
      "pygments_lexer": "ipython3",
      "version": "3.8.10"
    },
    "vscode": {
      "interpreter": {
        "hash": "31f2aee4e71d21fbe5cf8b01ff0e069b9275f58929596ceb00d14d90e3e16cd6"
      }
    }
  },
  "nbformat": 4,
  "nbformat_minor": 0
}
