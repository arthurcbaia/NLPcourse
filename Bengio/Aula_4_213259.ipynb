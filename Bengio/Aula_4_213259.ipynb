{
  "cells": [
    {
      "cell_type": "code",
      "execution_count": 1,
      "metadata": {
        "colab": {
          "base_uri": "https://localhost:8080/"
        },
        "id": "jOdQB41_4ZxG",
        "outputId": "e14f5479-3470-4177-ff26-6bf16c560f67"
      },
      "outputs": [
        {
          "name": "stdout",
          "output_type": "stream",
          "text": [
            "Meu nome é Arthur Baia\n"
          ]
        }
      ],
      "source": [
        "nome = 'Arthur Baia'\n",
        "print(f'Meu nome é {nome}')"
      ]
    },
    {
      "cell_type": "markdown",
      "metadata": {
        "id": "2IbuChoAPMEn"
      },
      "source": [
        "#  Exercício: Modelo de Linguagem (Bengio 2003) - MLP + Embeddings"
      ]
    },
    {
      "cell_type": "markdown",
      "metadata": {
        "id": "p_DBb0-Klwf2"
      },
      "source": [
        "Neste exercício iremos treinar uma rede neural similar a do Bengio 2003 para prever a próxima palavra de um texto, data as palavras anteriores como entrada. Esta tarefa é chamada de \"Modelagem da Linguagem\".\n",
        "\n",
        "Algumas dicas:\n",
        "- Inclua caracteres de pontuação (ex: `.` e `,`) no vocabulário.\n",
        "- Deixe tudo como caixa baixa (lower-case).\n",
        "- A escolha do tamanho do vocabulario é importante: ser for muito grande, fica difícil para o modelo aprender boas representações. Se for muito pequeno, o modelo apenas conseguirá gerar textos simples.\n",
        "- Remova qualquer exemplo de treino/validação/teste que tenha pelo menos um token desconhecido (ou na entrada ou na saída). \n",
        "- Este dataset já possui um tamanho razoável e é bem provável que você vai precisar rodar seus experimentos com GPU.\n",
        "- Durante a depuração, faça seu dataset ficar bem pequeno, para que a depuração seja mais rápida e não precise de GPU. Somente ligue a GPU quando o seu laço de treinamento já está funcionando\n",
        "- Não deixe para fazer esse exercício na véspera. Ele é trabalhoso."
      ]
    },
    {
      "cell_type": "markdown",
      "metadata": {
        "id": "YnyhJZtTRNMx"
      },
      "source": [
        "## Importação dos pacotes"
      ]
    },
    {
      "cell_type": "code",
      "execution_count": 2,
      "metadata": {
        "id": "qlIOVCajPWcU"
      },
      "outputs": [],
      "source": [
        "import collections\n",
        "import itertools\n",
        "import functools\n",
        "import math\n",
        "import os\n",
        "import random\n",
        "import re\n",
        "\n",
        "import torch\n",
        "import torch.nn as nn\n",
        "import numpy as np\n",
        "from torch.utils.data import DataLoader\n",
        "from tqdm import tqdm_notebook\n",
        "from typing import List"
      ]
    },
    {
      "cell_type": "code",
      "execution_count": 3,
      "metadata": {
        "colab": {
          "base_uri": "https://localhost:8080/"
        },
        "id": "w9f3PfifAwpU",
        "outputId": "bd62c9e1-6ab8-4c09-e597-c488369928a8"
      },
      "outputs": [
        {
          "name": "stdout",
          "output_type": "stream",
          "text": [
            "Sun Sep 18 11:05:17 2022       \n",
            "+-----------------------------------------------------------------------------+\n",
            "| NVIDIA-SMI 470.141.03   Driver Version: 470.141.03   CUDA Version: 11.4     |\n",
            "|-------------------------------+----------------------+----------------------+\n",
            "| GPU  Name        Persistence-M| Bus-Id        Disp.A | Volatile Uncorr. ECC |\n",
            "| Fan  Temp  Perf  Pwr:Usage/Cap|         Memory-Usage | GPU-Util  Compute M. |\n",
            "|                               |                      |               MIG M. |\n",
            "|===============================+======================+======================|\n",
            "|   0  NVIDIA GeForce ...  Off  | 00000000:01:00.0  On |                  N/A |\n",
            "| N/A   49C    P5    11W /  N/A |    615MiB /  5944MiB |     22%      Default |\n",
            "|                               |                      |                  N/A |\n",
            "+-------------------------------+----------------------+----------------------+\n",
            "                                                                               \n",
            "+-----------------------------------------------------------------------------+\n",
            "| Processes:                                                                  |\n",
            "|  GPU   GI   CI        PID   Type   Process name                  GPU Memory |\n",
            "|        ID   ID                                                   Usage      |\n",
            "|=============================================================================|\n",
            "|    0   N/A  N/A      1900      G   /usr/lib/xorg/Xorg                 70MiB |\n",
            "|    0   N/A  N/A      3090      G   /usr/lib/xorg/Xorg                176MiB |\n",
            "|    0   N/A  N/A      3264      G   /usr/bin/gnome-shell               44MiB |\n",
            "|    0   N/A  N/A      4361      G   ...RendererForSitePerProcess      115MiB |\n",
            "|    0   N/A  N/A      5545      G   /usr/lib/firefox/firefox          173MiB |\n",
            "|    0   N/A  N/A      6935      G   ...860701054519179842,131072       24MiB |\n",
            "+-----------------------------------------------------------------------------+\n"
          ]
        }
      ],
      "source": [
        "# Check which GPU we are using\n",
        "!nvidia-smi"
      ]
    },
    {
      "cell_type": "code",
      "execution_count": 4,
      "metadata": {
        "colab": {
          "base_uri": "https://localhost:8080/"
        },
        "id": "whTCe2i7AtoV",
        "outputId": "a6126268-9a7c-421b-d002-f89b0db1a57f"
      },
      "outputs": [
        {
          "name": "stdout",
          "output_type": "stream",
          "text": [
            "Using cuda:0\n"
          ]
        }
      ],
      "source": [
        "if torch.cuda.is_available(): \n",
        "   dev = \"cuda:0\"\n",
        "else: \n",
        "   dev = \"cpu\"\n",
        "device = torch.device(dev)\n",
        "print('Using {}'.format(device))"
      ]
    },
    {
      "cell_type": "markdown",
      "metadata": {
        "id": "4LfrHHouleJ0"
      },
      "source": [
        "# Carregamento do dataset \n",
        "\n",
        "Primeiro, fazemos download do dataset:"
      ]
    },
    {
      "cell_type": "code",
      "execution_count": 5,
      "metadata": {
        "colab": {
          "base_uri": "https://localhost:8080/"
        },
        "id": "2wbnfzst5O3k",
        "outputId": "add0bd18-4e07-414d-a6ea-4d65dbfd1e96"
      },
      "outputs": [
        {
          "name": "stdout",
          "output_type": "stream",
          "text": [
            "File ‘aclImdb.tgz’ already there; not retrieving.\n",
            "\n"
          ]
        }
      ],
      "source": [
        "!wget -nc http://files.fast.ai/data/aclImdb.tgz \n",
        "!tar -xzf aclImdb.tgz"
      ]
    },
    {
      "cell_type": "markdown",
      "metadata": {
        "id": "0Giyi5Rv_NIm"
      },
      "source": [
        "## Carregando o dataset\n",
        "\n",
        "Criaremos uma divisão de treino (80%) e validação (20%) artificialmente.\n",
        "\n",
        "Nota: Evitar de olhar ao máximo o dataset de teste para não ficar enviseado no que será testado. Em aplicações reais, o dataset de teste só estará disponível no futuro, ou seja, é quando o usuário começa a testar o seu produto."
      ]
    },
    {
      "cell_type": "code",
      "execution_count": 6,
      "metadata": {
        "colab": {
          "base_uri": "https://localhost:8080/"
        },
        "id": "0HIN_xLI_TuT",
        "outputId": "6cacd89f-7e20-433d-b669-291273cb0ab2"
      },
      "outputs": [
        {
          "name": "stdout",
          "output_type": "stream",
          "text": [
            "20000 amostras de treino.\n",
            "5000 amostras de desenvolvimento.\n",
            "25000 amostras de teste.\n",
            "3 primeiras amostras treino:\n",
            "Really, I can't believe that I spent $5 on this movie. I am a huge zombie fanatic and thought the mo\n",
            "You know a movie will not go well when John Carradine narrates (a.k.a. reads the script & plot synop\n",
            "I must give How She Move a near-perfect rating because the content is truly great. As a previous rev\n",
            "3 últimas amostras treino:\n",
            "I don't know if I'm just weird, but I thoroughly enjoyed this film. <br /><br />Return to Cabin by t\n",
            "I recently got the chance to view \"The Waterdance\", and quite liked it. I don't really understand wh\n",
            "As it is in Heaven {SPOILER WARNING)<br /><br />This was a great human drama that stimulated my emot\n",
            "3 primeiras amostras validação:\n",
            "I don't believe this was an acting challenge for Richard Harris. This was an uncomplicated plot, yet\n",
            "Wow, I loved this film. It may not have had the funding and advertising that the latest hollywood bl\n",
            "After viewing the film, I was truly shocked to see such a high rating on IMDb.<br /><br />'The Fanta\n",
            "3 últimas amostras validação:\n",
            "The movie's storyline is pat and quaint. Two women travel through the middle east and discover thems\n",
            "I have to admit that I went into Fever Pitch with low expectations. It's no huge revelation for me t\n",
            "Gurinda Chada's semi-autobiographical film (2002) is a gentle, poignant comedy set in the ethnically\n"
          ]
        }
      ],
      "source": [
        "def load_texts(folder):\n",
        "    texts = []\n",
        "    for path in os.listdir(folder):\n",
        "        with open(os.path.join(folder, path)) as f:\n",
        "            texts.append(f.read())\n",
        "    return texts\n",
        "\n",
        "x_train_pos = load_texts('aclImdb/train/pos')\n",
        "x_train_neg = load_texts('aclImdb/train/neg')\n",
        "x_test_pos = load_texts('aclImdb/test/pos')\n",
        "x_test_neg = load_texts('aclImdb/test/neg')\n",
        "\n",
        "x_train = x_train_pos + x_train_neg\n",
        "x_test = x_test_pos + x_test_neg\n",
        "\n",
        "# Embaralhamos o treino para depois fazermos a divisão treino/valid.\n",
        "random.shuffle(x_train)\n",
        "\n",
        "n_train = int(0.8 * len(x_train))\n",
        "\n",
        "x_valid = x_train[n_train:]\n",
        "x_train = x_train[:n_train]\n",
        "\n",
        "print(len(x_train), 'amostras de treino.')\n",
        "print(len(x_valid), 'amostras de desenvolvimento.')\n",
        "print(len(x_test), 'amostras de teste.')\n",
        "\n",
        "print('3 primeiras amostras treino:')\n",
        "for x in x_train[:3]:\n",
        "    print(x[:100])\n",
        "\n",
        "print('3 últimas amostras treino:')\n",
        "for x in x_train[-3:]:\n",
        "    print(x[:100])\n",
        "\n",
        "print('3 primeiras amostras validação:')\n",
        "for x in x_valid[:3]:\n",
        "    print(x[:100])\n",
        "\n",
        "print('3 últimas amostras validação:')\n",
        "for x in x_valid[-3:]:\n",
        "    print(x[:100])"
      ]
    },
    {
      "cell_type": "markdown",
      "metadata": {},
      "source": [
        "### Tokenizer"
      ]
    },
    {
      "cell_type": "code",
      "execution_count": 7,
      "metadata": {},
      "outputs": [],
      "source": [
        "unk = '<UNK>'"
      ]
    },
    {
      "cell_type": "code",
      "execution_count": 10,
      "metadata": {
        "id": "sekvvxEteayf"
      },
      "outputs": [],
      "source": [
        "class Tokenizer():\n",
        "\n",
        "    def __init__(self, max_vocab_token=1000):\n",
        "\n",
        "        self.max_vocab_tokens = max_vocab_token\n",
        "\n",
        "    def encode(self, text: str):\n",
        "        # Escreva aqui seu código.\n",
        "        return [self.vocab[word] if word in self.vocab else unk for word in self.tokenize(text)]\n",
        "\n",
        "    def decode(self, tokens: List[int]):\n",
        "        # Escreva aqui seu código.\n",
        "        return ' '.join([self.vocab_inv[token] for token in tokens])\n",
        "\n",
        "    def create_vocab(self, texts: List[str]):\n",
        "        L = [word for phrase in list(map(self.tokenize, texts))\n",
        "             for word in phrase]\n",
        "        k = self.max_vocab_tokens\n",
        "        def vocab(L, k): return {value: key for key, value in enumerate(\n",
        "            dict(collections.Counter(L).most_common(k)))}\n",
        "        self.vocab = vocab(L, k)\n",
        "        self.vocab_inv = {v: k for k, v in self.vocab.items()}\n",
        "    def tokenize(self, text: str):\n",
        "        \"\"\"\n",
        "        Convert string to a list of tokens (i.e., words).\n",
        "        This function lower cases everything and removes punctuation.\n",
        "        \"\"\"\n",
        "        # Escreva aqui seu código.\n",
        "        return re.findall(r\"\\w+|[^\\w\\s]\", text.lower())\n"
      ]
    },
    {
      "cell_type": "code",
      "execution_count": 15,
      "metadata": {},
      "outputs": [
        {
          "name": "stdout",
          "output_type": "stream",
          "text": [
            "[0, 1, 2, 3, 4, 5, 6]\n",
            "a cat walks in the bad .\n",
            "a cat walks .\n"
          ]
        }
      ],
      "source": [
        "def test_tokenizer():\n",
        "    phrase = 'a cat walks in the bad.'\n",
        "    vocab = Tokenizer(len(phrase.split())+1)\n",
        "    vocab_ = vocab.create_vocab([phrase])\n",
        "    print(vocab.encode(phrase))\n",
        "    print(vocab.decode(vocab.encode(phrase)))\n",
        "    # assert vocab.decode(vocab.encode(phrase)) == phrase\n",
        "    print(vocab.decode(vocab.encode('a cat walks.')))\n",
        "test_tokenizer()\n"
      ]
    },
    {
      "cell_type": "markdown",
      "metadata": {},
      "source": [
        "## Dataset"
      ]
    },
    {
      "cell_type": "code",
      "execution_count": 106,
      "metadata": {},
      "outputs": [],
      "source": [
        "class IMDBdataset(torch.utils.data.Dataset):\n",
        "    def __init__(self, corpus: List[str], vocab, context_size=9):\n",
        "        data = []\n",
        "        for text in corpus:\n",
        "            tokens = vocab.encode(text)\n",
        "            data.extend([\n",
        "                tokens[i:i+context_size+1] for i in range(len(tokens)-context_size)\n",
        "                if unk not in tokens[i:i+context_size+1] and len(tokens) > context_size\n",
        "            ])\n",
        "        self.data = torch.tensor(data)\n",
        "    \n",
        "    def __len__(self):\n",
        "        return len(self.data)\n",
        "\n",
        "    def __getitem__(self, idx):\n",
        "        return self.data[idx][:-1], self.data[idx][-1].long()\n"
      ]
    },
    {
      "cell_type": "code",
      "execution_count": 107,
      "metadata": {},
      "outputs": [],
      "source": [
        "\"\"\"Function to test the dataset\"\"\"\n",
        "def test_dataset():\n",
        "    vocab = Tokenizer()\n",
        "    test_corpus = ['a cat walks in the bad.', 'a dog walks in the good.']\n",
        "    vocab.create_vocab(test_corpus)\n",
        "    unseen_tokens = ['aprendendo sobre o modelo n-grama']\n",
        "    dataset_ = IMDBdataset(unseen_tokens, vocab, 3)\n",
        "    assert len(dataset_) == 0\n",
        "    context_size = 3\n",
        "    dataset_ = IMDBdataset(test_corpus, vocab, context_size=context_size)\n",
        "    assert len(dataset_) == 8\n",
        "    assert len(dataset_.__getitem__(0)[0].tolist()) == context_size\n",
        "    assert len([dataset_.__getitem__(0)[1].tolist()]) == 1\n",
        "    assert dataset_.__getitem__(0)[1].tolist() == vocab.encode('in')[0]\n",
        "    assert dataset_.__getitem__(0)[0].tolist() == vocab.encode('a cat walks')\n",
        "\n",
        "\n",
        "test_dataset()"
      ]
    },
    {
      "cell_type": "markdown",
      "metadata": {},
      "source": [
        "## Dataloader"
      ]
    },
    {
      "cell_type": "code",
      "execution_count": 108,
      "metadata": {},
      "outputs": [],
      "source": [
        "\"\"\"function to test the dataloader\"\"\"\n",
        "def test_dataloader():\n",
        "    vocab = Tokenizer()\n",
        "    test_corpus = ['a cat walks in the bad.', 'a dog walks in the good.']\n",
        "    vocab.create_vocab(test_corpus)\n",
        "    context_size = 3\n",
        "    dataset_ = IMDBdataset(test_corpus, vocab, context_size=context_size)\n",
        "    dataloader_ = torch.utils.data.DataLoader(dataset_, batch_size=2, shuffle=True)\n",
        "    for batch in dataloader_:\n",
        "        assert len(batch[0].shape) == 2\n",
        "        assert len(batch[1].shape) == 1\n",
        "        assert batch[0].shape[0] == batch[1].shape[0]\n",
        "        assert batch[0].shape[1] == context_size\n",
        "        break\n",
        "test_dataloader()"
      ]
    },
    {
      "cell_type": "markdown",
      "metadata": {},
      "source": [
        "## Model"
      ]
    },
    {
      "cell_type": "code",
      "execution_count": 109,
      "metadata": {},
      "outputs": [],
      "source": [
        "class BengioModel(torch.nn.Module):\n",
        "    def __init__(self, vocab_size, embedding_dim, hidden_dim, context_size):\n",
        "        super(BengioModel, self).__init__()\n",
        "        self.embedding = nn.Embedding(vocab_size, embedding_dim)\n",
        "        self.linear1 = nn.Linear(context_size*embedding_dim, hidden_dim)\n",
        "        self.linear2 = nn.Linear(hidden_dim, vocab_size)\n",
        "\n",
        "    def forward(self, x):\n",
        "        x = self.embedding(x)\n",
        "        x = x.view(x.size(0), -1)\n",
        "        x = self.linear1(x)\n",
        "        x = torch.relu(x)\n",
        "        x = self.linear2(x)\n",
        "        x = torch.relu(x)\n",
        "        return torch.log_softmax(x, dim=1)\n"
      ]
    },
    {
      "cell_type": "code",
      "execution_count": 110,
      "metadata": {},
      "outputs": [],
      "source": [
        "\"\"\"Function to test the model\"\"\"\n",
        "def test_model():\n",
        "    vocab = Tokenizer()\n",
        "    test_corpus = ['a cat walks in the bad.', 'a dog walks in the good.']\n",
        "    vocab.create_vocab(test_corpus)\n",
        "    context_size = 3\n",
        "    dataset_ = IMDBdataset(test_corpus, vocab, context_size=context_size)\n",
        "    dataloader_ = torch.utils.data.DataLoader(dataset_, batch_size=2, shuffle=True)\n",
        "    model = BengioModel(len(vocab.vocab), 10, 10, context_size)\n",
        "    for batch in dataloader_:\n",
        "        output = model(batch[0])\n",
        "        assert output.shape == (dataloader_.batch_size, len(vocab.vocab))\n",
        "        break\n",
        "test_model()"
      ]
    },
    {
      "cell_type": "markdown",
      "metadata": {},
      "source": [
        "## Train and evaluate"
      ]
    },
    {
      "cell_type": "code",
      "execution_count": 111,
      "metadata": {},
      "outputs": [],
      "source": [
        "\"\"\"Function to train the model, which returns the train loss\"\"\"\n",
        "def train(model, train_dataloader, loss_func, optimizer):\n",
        "    model.train()\n",
        "    train_loss = 0\n",
        "    for x,y in train_dataloader:\n",
        "        x = x.to(device)\n",
        "        y = y.to(device)\n",
        "        optimizer.zero_grad()\n",
        "        output = model(x)\n",
        "        loss = loss_func(output, y)\n",
        "        loss.backward()\n",
        "        optimizer.step()\n",
        "        train_loss += loss.item()\n",
        "    return train_loss / len(train_dataloader)"
      ]
    },
    {
      "cell_type": "code",
      "execution_count": 113,
      "metadata": {},
      "outputs": [],
      "source": [
        "\"\"\"Function to evaluate the model, which returns the validation loss and accuracy\"\"\"\n",
        "def evaluate(model, num_examples, valid_dataloader, loss_func):\n",
        "\n",
        "    correct = 0\n",
        "    val_loss = 0\n",
        "\n",
        "    for x, y in valid_dataloader:\n",
        "        x, y = x.to(device), y.to(device)\n",
        "\n",
        "        with torch.no_grad():\n",
        "\n",
        "          logits = model(x)\n",
        "\n",
        "        preds = logits.argmax(dim=1)\n",
        "\n",
        "        loss = loss_func(logits, y)\n",
        "\n",
        "        val_loss += loss.item()\n",
        "\n",
        "        correct += (preds==y).sum().item()\n",
        "\n",
        "    return (correct / num_examples), (val_loss / len(valid_dataloader))"
      ]
    },
    {
      "cell_type": "code",
      "execution_count": 114,
      "metadata": {},
      "outputs": [],
      "source": [
        "\"\"\"Function to test the training and evaluation functions\"\"\"\n",
        "def test_train_eval():\n",
        "    vocab = Tokenizer()\n",
        "    test_corpus = ['a cat walks in the bad.', 'a dog walks in the good.']\n",
        "    vocab.create_vocab(test_corpus)\n",
        "    context_size = 3\n",
        "    dataset_ = IMDBdataset(test_corpus, vocab, context_size=context_size)\n",
        "    dataloader_ = torch.utils.data.DataLoader(dataset_, batch_size=2, shuffle=True)\n",
        "    model = BengioModel(len(vocab.vocab), 10, 10, context_size)\n",
        "    loss_func = nn.CrossEntropyLoss()\n",
        "    optimizer = torch.optim.Adam(model.parameters(), lr=0.01)\n",
        "    train_loss = train(model, dataloader_, loss_func, optimizer)\n",
        "    valid_loss, accuracy = evaluate(model, dataloader_, loss_func)\n",
        "    assert train_loss > 0\n",
        "    assert valid_loss > 0\n",
        "    assert accuracy > 0"
      ]
    },
    {
      "cell_type": "markdown",
      "metadata": {},
      "source": [
        "## Hyperparameters"
      ]
    },
    {
      "cell_type": "code",
      "execution_count": 125,
      "metadata": {},
      "outputs": [
        {
          "data": {
            "text/plain": [
              "CrossEntropyLoss()"
            ]
          },
          "execution_count": 125,
          "metadata": {},
          "output_type": "execute_result"
        }
      ],
      "source": [
        "learning_rate = 0.0001\n",
        "vocab = Tokenizer()\n",
        "vocab.create_vocab(x_train)\n",
        "context_size = 5\n",
        "dataset_train = IMDBdataset(x_train, vocab, context_size=context_size)\n",
        "dataset_valid = IMDBdataset(x_valid, vocab, context_size=context_size)\n",
        "num_examples = len(dataset_valid)\n",
        "train_dataloader = torch.utils.data.DataLoader(dataset_train, batch_size=128, shuffle=True)\n",
        "valid_dataloader = torch.utils.data.DataLoader(dataset_valid, batch_size=32, shuffle=True)\n",
        "model = BengioModel(len(vocab.vocab), 100, 100, context_size)\n",
        "loss_func = nn.CrossEntropyLoss()\n",
        "optimizer = torch.optim.Adam(model.parameters(), lr=learning_rate)\n",
        "model.to(device)\n",
        "loss_func.to(device)"
      ]
    },
    {
      "cell_type": "code",
      "execution_count": 126,
      "metadata": {},
      "outputs": [
        {
          "name": "stdout",
          "output_type": "stream",
          "text": [
            "Pré treino; Validation Loss: 6.899; Perplexity: 991.464; Accuracy: 0.001\n",
            "Epoch: 1; Train Loss: 4.260; Perplexity: 70.795; Validation Loss: 3.991; Accuracy: 0.293\n",
            "Epoch: 2; Train Loss: 3.906; Perplexity: 49.720; Validation Loss: 3.870; Accuracy: 0.310\n",
            "Epoch: 3; Train Loss: 3.819; Perplexity: 45.569; Validation Loss: 3.815; Accuracy: 0.316\n",
            "Epoch: 4; Train Loss: 3.772; Perplexity: 43.483; Validation Loss: 3.783; Accuracy: 0.321\n",
            "Epoch: 5; Train Loss: 3.742; Perplexity: 42.176; Validation Loss: 3.760; Accuracy: 0.325\n",
            "Epoch: 6; Train Loss: 3.720; Perplexity: 41.248; Validation Loss: 3.743; Accuracy: 0.328\n",
            "Epoch: 7; Train Loss: 3.702; Perplexity: 40.538; Validation Loss: 3.731; Accuracy: 0.329\n",
            "Epoch: 8; Train Loss: 3.688; Perplexity: 39.970; Validation Loss: 3.720; Accuracy: 0.331\n",
            "Epoch: 9; Train Loss: 3.676; Perplexity: 39.505; Validation Loss: 3.712; Accuracy: 0.332\n",
            "Epoch: 10; Train Loss: 3.666; Perplexity: 39.110; Validation Loss: 3.704; Accuracy: 0.333\n",
            "Epoch: 11; Train Loss: 3.658; Perplexity: 38.766; Validation Loss: 3.697; Accuracy: 0.334\n",
            "Epoch: 12; Train Loss: 3.649; Perplexity: 38.431; Validation Loss: 3.691; Accuracy: 0.335\n",
            "Epoch: 13; Train Loss: 3.642; Perplexity: 38.160; Validation Loss: 3.686; Accuracy: 0.335\n",
            "Epoch: 14; Train Loss: 3.636; Perplexity: 37.924; Validation Loss: 3.682; Accuracy: 0.336\n",
            "Epoch: 15; Train Loss: 3.630; Perplexity: 37.712; Validation Loss: 3.678; Accuracy: 0.336\n",
            "Epoch: 16; Train Loss: 3.625; Perplexity: 37.519; Validation Loss: 3.674; Accuracy: 0.337\n",
            "Epoch: 17; Train Loss: 3.620; Perplexity: 37.345; Validation Loss: 3.671; Accuracy: 0.338\n",
            "Epoch: 18; Train Loss: 3.616; Perplexity: 37.181; Validation Loss: 3.668; Accuracy: 0.339\n",
            "Epoch: 19; Train Loss: 3.612; Perplexity: 37.035; Validation Loss: 3.665; Accuracy: 0.338\n",
            "Epoch: 20; Train Loss: 3.608; Perplexity: 36.897; Validation Loss: 3.663; Accuracy: 0.339\n",
            "Epoch: 21; Train Loss: 3.605; Perplexity: 36.769; Validation Loss: 3.660; Accuracy: 0.339\n",
            "Epoch: 22; Train Loss: 3.601; Perplexity: 36.649; Validation Loss: 3.658; Accuracy: 0.340\n",
            "Epoch: 23; Train Loss: 3.598; Perplexity: 36.533; Validation Loss: 3.656; Accuracy: 0.340\n",
            "Epoch: 24; Train Loss: 3.595; Perplexity: 36.429; Validation Loss: 3.655; Accuracy: 0.340\n",
            "Epoch: 25; Train Loss: 3.593; Perplexity: 36.330; Validation Loss: 3.652; Accuracy: 0.341\n",
            "Epoch: 26; Train Loss: 3.590; Perplexity: 36.234; Validation Loss: 3.651; Accuracy: 0.341\n",
            "Epoch: 27; Train Loss: 3.588; Perplexity: 36.146; Validation Loss: 3.649; Accuracy: 0.341\n",
            "Epoch: 28; Train Loss: 3.585; Perplexity: 36.058; Validation Loss: 3.648; Accuracy: 0.341\n",
            "Epoch: 29; Train Loss: 3.583; Perplexity: 35.980; Validation Loss: 3.647; Accuracy: 0.341\n",
            "Epoch: 30; Train Loss: 3.581; Perplexity: 35.902; Validation Loss: 3.646; Accuracy: 0.341\n",
            "Epoch: 31; Train Loss: 3.579; Perplexity: 35.826; Validation Loss: 3.645; Accuracy: 0.342\n",
            "Epoch: 32; Train Loss: 3.577; Perplexity: 35.758; Validation Loss: 3.643; Accuracy: 0.342\n",
            "Epoch: 33; Train Loss: 3.575; Perplexity: 35.688; Validation Loss: 3.642; Accuracy: 0.342\n",
            "Epoch: 34; Train Loss: 3.573; Perplexity: 35.622; Validation Loss: 3.641; Accuracy: 0.342\n",
            "Epoch: 35; Train Loss: 3.571; Perplexity: 35.559; Validation Loss: 3.640; Accuracy: 0.342\n",
            "Epoch: 36; Train Loss: 3.569; Perplexity: 35.498; Validation Loss: 3.639; Accuracy: 0.342\n",
            "Epoch: 37; Train Loss: 3.568; Perplexity: 35.439; Validation Loss: 3.639; Accuracy: 0.342\n",
            "Epoch: 38; Train Loss: 3.566; Perplexity: 35.385; Validation Loss: 3.637; Accuracy: 0.342\n",
            "Epoch: 39; Train Loss: 3.565; Perplexity: 35.330; Validation Loss: 3.636; Accuracy: 0.343\n",
            "Epoch: 40; Train Loss: 3.563; Perplexity: 35.279; Validation Loss: 3.635; Accuracy: 0.343\n",
            "Epoch: 41; Train Loss: 3.562; Perplexity: 35.227; Validation Loss: 3.635; Accuracy: 0.343\n",
            "Epoch: 42; Train Loss: 3.560; Perplexity: 35.179; Validation Loss: 3.634; Accuracy: 0.343\n",
            "Epoch: 43; Train Loss: 3.559; Perplexity: 35.129; Validation Loss: 3.633; Accuracy: 0.343\n",
            "Epoch: 44; Train Loss: 3.558; Perplexity: 35.084; Validation Loss: 3.633; Accuracy: 0.344\n",
            "Epoch: 45; Train Loss: 3.557; Perplexity: 35.040; Validation Loss: 3.631; Accuracy: 0.344\n",
            "Epoch: 46; Train Loss: 3.555; Perplexity: 34.999; Validation Loss: 3.631; Accuracy: 0.344\n",
            "Epoch: 47; Train Loss: 3.554; Perplexity: 34.955; Validation Loss: 3.630; Accuracy: 0.344\n",
            "Epoch: 48; Train Loss: 3.553; Perplexity: 34.915; Validation Loss: 3.631; Accuracy: 0.343\n",
            "Epoch: 49; Train Loss: 3.552; Perplexity: 34.877; Validation Loss: 3.629; Accuracy: 0.344\n",
            "Epoch: 50; Train Loss: 3.551; Perplexity: 34.836; Validation Loss: 3.629; Accuracy: 0.344\n",
            "Epoch: 51; Train Loss: 3.550; Perplexity: 34.800; Validation Loss: 3.628; Accuracy: 0.344\n",
            "Epoch: 52; Train Loss: 3.549; Perplexity: 34.762; Validation Loss: 3.628; Accuracy: 0.344\n",
            "Epoch: 53; Train Loss: 3.548; Perplexity: 34.728; Validation Loss: 3.626; Accuracy: 0.345\n",
            "Epoch: 54; Train Loss: 3.547; Perplexity: 34.694; Validation Loss: 3.627; Accuracy: 0.345\n",
            "Epoch: 55; Train Loss: 3.546; Perplexity: 34.660; Validation Loss: 3.625; Accuracy: 0.345\n",
            "Epoch: 56; Train Loss: 3.545; Perplexity: 34.629; Validation Loss: 3.626; Accuracy: 0.345\n",
            "Epoch: 57; Train Loss: 3.544; Perplexity: 34.596; Validation Loss: 3.625; Accuracy: 0.345\n",
            "Epoch: 58; Train Loss: 3.543; Perplexity: 34.564; Validation Loss: 3.625; Accuracy: 0.344\n",
            "Epoch: 59; Train Loss: 3.542; Perplexity: 34.532; Validation Loss: 3.624; Accuracy: 0.345\n",
            "Epoch: 60; Train Loss: 3.541; Perplexity: 34.505; Validation Loss: 3.624; Accuracy: 0.345\n",
            "Epoch: 61; Train Loss: 3.540; Perplexity: 34.473; Validation Loss: 3.624; Accuracy: 0.345\n",
            "Epoch: 62; Train Loss: 3.539; Perplexity: 34.444; Validation Loss: 3.623; Accuracy: 0.345\n",
            "Epoch: 63; Train Loss: 3.539; Perplexity: 34.419; Validation Loss: 3.622; Accuracy: 0.345\n",
            "Epoch: 64; Train Loss: 3.538; Perplexity: 34.392; Validation Loss: 3.622; Accuracy: 0.345\n",
            "Epoch: 65; Train Loss: 3.537; Perplexity: 34.365; Validation Loss: 3.623; Accuracy: 0.345\n",
            "Epoch: 66; Train Loss: 3.536; Perplexity: 34.340; Validation Loss: 3.622; Accuracy: 0.345\n",
            "Epoch: 67; Train Loss: 3.535; Perplexity: 34.312; Validation Loss: 3.622; Accuracy: 0.346\n",
            "Epoch: 68; Train Loss: 3.535; Perplexity: 34.291; Validation Loss: 3.621; Accuracy: 0.345\n",
            "Epoch: 69; Train Loss: 3.534; Perplexity: 34.264; Validation Loss: 3.620; Accuracy: 0.346\n",
            "Epoch: 70; Train Loss: 3.533; Perplexity: 34.239; Validation Loss: 3.622; Accuracy: 0.346\n",
            "Epoch: 71; Train Loss: 3.533; Perplexity: 34.218; Validation Loss: 3.620; Accuracy: 0.346\n",
            "Epoch: 72; Train Loss: 3.532; Perplexity: 34.195; Validation Loss: 3.620; Accuracy: 0.346\n",
            "Epoch: 73; Train Loss: 3.531; Perplexity: 34.172; Validation Loss: 3.620; Accuracy: 0.346\n",
            "Epoch: 74; Train Loss: 3.531; Perplexity: 34.149; Validation Loss: 3.619; Accuracy: 0.345\n",
            "Epoch: 75; Train Loss: 3.530; Perplexity: 34.126; Validation Loss: 3.619; Accuracy: 0.346\n",
            "Epoch: 76; Train Loss: 3.530; Perplexity: 34.108; Validation Loss: 3.619; Accuracy: 0.346\n",
            "Epoch: 77; Train Loss: 3.529; Perplexity: 34.089; Validation Loss: 3.618; Accuracy: 0.346\n",
            "Epoch: 78; Train Loss: 3.528; Perplexity: 34.063; Validation Loss: 3.619; Accuracy: 0.346\n",
            "Epoch: 79; Train Loss: 3.528; Perplexity: 34.046; Validation Loss: 3.618; Accuracy: 0.346\n",
            "Epoch: 80; Train Loss: 3.527; Perplexity: 34.023; Validation Loss: 3.619; Accuracy: 0.346\n",
            "Epoch: 81; Train Loss: 3.526; Perplexity: 34.005; Validation Loss: 3.618; Accuracy: 0.346\n",
            "Epoch: 82; Train Loss: 3.526; Perplexity: 33.983; Validation Loss: 3.618; Accuracy: 0.345\n",
            "Epoch: 83; Train Loss: 3.525; Perplexity: 33.967; Validation Loss: 3.617; Accuracy: 0.347\n",
            "Epoch: 84; Train Loss: 3.525; Perplexity: 33.946; Validation Loss: 3.617; Accuracy: 0.346\n",
            "Epoch: 85; Train Loss: 3.524; Perplexity: 33.928; Validation Loss: 3.617; Accuracy: 0.347\n",
            "Epoch: 86; Train Loss: 3.524; Perplexity: 33.911; Validation Loss: 3.617; Accuracy: 0.346\n",
            "Epoch: 87; Train Loss: 3.523; Perplexity: 33.893; Validation Loss: 3.617; Accuracy: 0.346\n",
            "Epoch: 88; Train Loss: 3.523; Perplexity: 33.872; Validation Loss: 3.616; Accuracy: 0.346\n",
            "Epoch: 89; Train Loss: 3.522; Perplexity: 33.856; Validation Loss: 3.617; Accuracy: 0.346\n",
            "Epoch: 90; Train Loss: 3.522; Perplexity: 33.839; Validation Loss: 3.616; Accuracy: 0.347\n",
            "Epoch: 91; Train Loss: 3.521; Perplexity: 33.822; Validation Loss: 3.616; Accuracy: 0.347\n",
            "Epoch: 92; Train Loss: 3.521; Perplexity: 33.808; Validation Loss: 3.616; Accuracy: 0.347\n",
            "Epoch: 93; Train Loss: 3.520; Perplexity: 33.791; Validation Loss: 3.616; Accuracy: 0.347\n",
            "Epoch: 94; Train Loss: 3.520; Perplexity: 33.775; Validation Loss: 3.615; Accuracy: 0.347\n",
            "Epoch: 95; Train Loss: 3.519; Perplexity: 33.759; Validation Loss: 3.616; Accuracy: 0.347\n",
            "Epoch: 96; Train Loss: 3.519; Perplexity: 33.741; Validation Loss: 3.615; Accuracy: 0.346\n",
            "Epoch: 97; Train Loss: 3.518; Perplexity: 33.726; Validation Loss: 3.615; Accuracy: 0.347\n",
            "Epoch: 98; Train Loss: 3.518; Perplexity: 33.713; Validation Loss: 3.615; Accuracy: 0.347\n",
            "Epoch: 99; Train Loss: 3.517; Perplexity: 33.699; Validation Loss: 3.615; Accuracy: 0.347\n",
            "Epoch: 100; Train Loss: 3.517; Perplexity: 33.685; Validation Loss: 3.615; Accuracy: 0.347\n"
          ]
        }
      ],
      "source": [
        "\n",
        "\n",
        "epochs = 100\n",
        "train_losses = []\n",
        "valid_losses = []\n",
        "accuracy_train = []\n",
        "perplexities = []\n",
        "accuracy, valid_loss = evaluate(model, num_examples,valid_dataloader, loss_func)\n",
        "print(f\"Pré treino; Validation Loss: {valid_loss:.3f}; Perplexity: {np.exp(valid_loss):.3f}; Accuracy: {accuracy:.3f}\")\n",
        "for t in range(epochs):\n",
        "  train_loss = train(model, train_dataloader, loss_func, optimizer)\n",
        "  train_losses.append(train_loss)\n",
        "  accuracy, valid_loss = evaluate(model, num_examples, valid_dataloader, loss_func)\n",
        "  valid_losses.append(valid_loss)\n",
        "  accuracy_train.append(accuracy)\n",
        "  perplexities.append(np.exp(train_loss))\n",
        "  print(f\"Epoch: {t+1}; Train Loss: {train_loss:.3f}; Perplexity: {np.exp(train_loss):.3f}; Validation Loss: {valid_loss:.3f}; Accuracy: {accuracy:.3f}\")\n",
        "\n"
      ]
    },
    {
      "cell_type": "code",
      "execution_count": 130,
      "metadata": {},
      "outputs": [
        {
          "name": "stdout",
          "output_type": "stream",
          "text": [
            "Test Loss: 3.607; Perplexity: 36.869; Accuracy: 1.696\n"
          ]
        }
      ],
      "source": [
        "\"\"\"Use the test dataset to evaluate the model\"\"\"\n",
        "\n",
        "\n",
        "dataset_test = IMDBdataset(x_test, vocab, context_size=context_size)\n",
        "test_dataloader = torch.utils.data.DataLoader(dataset_test, batch_size=128, shuffle=True)\n",
        "acc, loss = evaluate(model, num_examples, test_dataloader, loss_func)\n",
        "print(f\"Test Loss: {loss:.3f}; Perplexity: {np.exp(loss):.3f}; Accuracy: {acc:.3f}\")\n"
      ]
    },
    {
      "cell_type": "code",
      "execution_count": 131,
      "metadata": {},
      "outputs": [
        {
          "data": {
            "image/png": "[encoded data removed]",
            "text/plain": [
              "<Figure size 432x288 with 1 Axes>"
            ]
          },
          "metadata": {
            "needs_background": "light"
          },
          "output_type": "display_data"
        }
      ],
      "source": [
        "import matplotlib.pyplot as plt\n",
        "\"\"\"Plot the training and validation losses\"\"\"\n",
        "plt.plot(train_losses, label='Train Loss')\n",
        "plt.plot(valid_losses, label='Validation Loss')\n",
        "plt.legend()\n",
        "plt.show()\n"
      ]
    },
    {
      "cell_type": "code",
      "execution_count": null,
      "metadata": {},
      "outputs": [],
      "source": []
    }
  ],
  "metadata": {
    "accelerator": "GPU",
    "colab": {
      "collapsed_sections": [],
      "provenance": []
    },
    "kernelspec": {
      "display_name": "Python 3.8.10 64-bit",
      "language": "python",
      "name": "python3"
    },
    "language_info": {
      "codemirror_mode": {
        "name": "ipython",
        "version": 3
      },
      "file_extension": ".py",
      "mimetype": "text/x-python",
      "name": "python",
      "nbconvert_exporter": "python",
      "pygments_lexer": "ipython3",
      "version": "3.8.10"
    },
    "vscode": {
      "interpreter": {
        "hash": "31f2aee4e71d21fbe5cf8b01ff0e069b9275f58929596ceb00d14d90e3e16cd6"
      }
    }
  },
  "nbformat": 4,
  "nbformat_minor": 0
}
